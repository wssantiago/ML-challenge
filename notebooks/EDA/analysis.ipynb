{
 "cells": [
  {
   "cell_type": "markdown",
   "id": "787bd317-c473-44d0-a3df-52f9ac4a757c",
   "metadata": {},
   "source": [
    "### 1. Importing dependencies"
   ]
  },
  {
   "cell_type": "code",
   "execution_count": 1,
   "id": "8c94ce05-bd05-403f-8cc5-0b326edffea2",
   "metadata": {
    "tags": []
   },
   "outputs": [],
   "source": [
    "import pandas as pd\n",
    "import seaborn as sns\n",
    "import matplotlib.pyplot as plt\n",
    "import numpy as np\n",
    "from sklearn.pipeline import Pipeline\n",
    "from sklearn.compose import ColumnTransformer\n",
    "from sklearn.impute import SimpleImputer, KNNImputer\n",
    "from sklearn.preprocessing import StandardScaler, MinMaxScaler\n",
    "from sklearn.neighbors import LocalOutlierFactor"
   ]
  },
  {
   "cell_type": "markdown",
   "id": "3c15e39b-796c-4dcc-b2f0-68858cab3f0e",
   "metadata": {
    "tags": []
   },
   "source": [
    "### 2. Reading the dataset and preprocessing"
   ]
  },
  {
   "cell_type": "code",
   "execution_count": 2,
   "id": "6c28c466-d43f-4cc3-ba2f-f7d8125763ba",
   "metadata": {},
   "outputs": [],
   "source": [
    "recipes = pd.read_json(\"../../datasets/eda_receitas_data/receitas.json\")"
   ]
  },
  {
   "cell_type": "code",
   "execution_count": 3,
   "id": "878bbbb4-4356-4945-b107-38114d9c8f89",
   "metadata": {
    "tags": []
   },
   "outputs": [
    {
     "data": {
      "text/plain": [
       "(20130, 11)"
      ]
     },
     "execution_count": 3,
     "metadata": {},
     "output_type": "execute_result"
    }
   ],
   "source": [
    "recipes.shape"
   ]
  },
  {
   "cell_type": "markdown",
   "id": "9e92d27e-ae2c-45ea-8d45-35af13b6c971",
   "metadata": {},
   "source": [
    "A lot of missing data could harm the analysis."
   ]
  },
  {
   "cell_type": "code",
   "execution_count": 4,
   "id": "b550116b-8cb2-4b2a-a3f8-52a5104857b0",
   "metadata": {
    "tags": []
   },
   "outputs": [
    {
     "data": {
      "text/plain": [
       "directions       19\n",
       "fat            4222\n",
       "date             19\n",
       "categories       19\n",
       "calories       4154\n",
       "desc           6635\n",
       "protein        4201\n",
       "rating           30\n",
       "title            19\n",
       "ingredients      19\n",
       "sodium         4156\n",
       "dtype: int64"
      ]
     },
     "execution_count": 4,
     "metadata": {},
     "output_type": "execute_result"
    }
   ],
   "source": [
    "recipes.isnull().sum()"
   ]
  },
  {
   "cell_type": "markdown",
   "id": "b9a306d4-044e-4855-99f4-bad766e0c9ce",
   "metadata": {},
   "source": [
    "Make sure all null values are of type 'np.nan' to further correctly address imputing."
   ]
  },
  {
   "cell_type": "code",
   "execution_count": 5,
   "id": "1370b10e-485f-498f-af9f-409e7adae80e",
   "metadata": {
    "tags": []
   },
   "outputs": [],
   "source": [
    "recipes.fillna(value=np.nan, inplace=True)"
   ]
  },
  {
   "cell_type": "markdown",
   "id": "e22bf5f5-fa73-49a5-911f-230ab945a664",
   "metadata": {},
   "source": [
    "The 19 recipes with no date associated are dropped as we cannot infer properly when they were created and it my impact analysis. These samples are not proportionally relevant and can be dropped."
   ]
  },
  {
   "cell_type": "code",
   "execution_count": 6,
   "id": "6ec113ec-6584-4fdd-8d07-c4bbd8bbcfae",
   "metadata": {
    "tags": []
   },
   "outputs": [],
   "source": [
    "recipes = recipes.drop(index=recipes[recipes.date.isnull() == True].index)"
   ]
  },
  {
   "cell_type": "code",
   "execution_count": 7,
   "id": "4719acec-7a81-4725-bb6c-43e3ba4ca9ef",
   "metadata": {
    "tags": []
   },
   "outputs": [
    {
     "data": {
      "text/plain": [
       "(20111, 11)"
      ]
     },
     "execution_count": 7,
     "metadata": {},
     "output_type": "execute_result"
    }
   ],
   "source": [
    "recipes.shape"
   ]
  },
  {
   "cell_type": "markdown",
   "id": "d4e9baa3-630c-4004-b556-15d2c4eebe28",
   "metadata": {},
   "source": [
    "All numerical features but 'rating' have pretty high standard deviations as various samples are too far from the mean."
   ]
  },
  {
   "cell_type": "code",
   "execution_count": 8,
   "id": "442ff654-cf06-4ae7-9316-5ab893ce940a",
   "metadata": {
    "tags": []
   },
   "outputs": [
    {
     "data": {
      "text/html": [
       "<div>\n",
       "<style scoped>\n",
       "    .dataframe tbody tr th:only-of-type {\n",
       "        vertical-align: middle;\n",
       "    }\n",
       "\n",
       "    .dataframe tbody tr th {\n",
       "        vertical-align: top;\n",
       "    }\n",
       "\n",
       "    .dataframe thead th {\n",
       "        text-align: right;\n",
       "    }\n",
       "</style>\n",
       "<table border=\"1\" class=\"dataframe\">\n",
       "  <thead>\n",
       "    <tr style=\"text-align: right;\">\n",
       "      <th></th>\n",
       "      <th>count</th>\n",
       "      <th>mean</th>\n",
       "      <th>std</th>\n",
       "      <th>min</th>\n",
       "      <th>25%</th>\n",
       "      <th>50%</th>\n",
       "      <th>75%</th>\n",
       "      <th>max</th>\n",
       "    </tr>\n",
       "  </thead>\n",
       "  <tbody>\n",
       "    <tr>\n",
       "      <th>fat</th>\n",
       "      <td>15908.0</td>\n",
       "      <td>346.097498</td>\n",
       "      <td>20431.020991</td>\n",
       "      <td>0.0</td>\n",
       "      <td>7.00</td>\n",
       "      <td>17.000</td>\n",
       "      <td>33.000</td>\n",
       "      <td>1722763.0</td>\n",
       "    </tr>\n",
       "    <tr>\n",
       "      <th>calories</th>\n",
       "      <td>15976.0</td>\n",
       "      <td>6307.856848</td>\n",
       "      <td>358585.122970</td>\n",
       "      <td>0.0</td>\n",
       "      <td>198.00</td>\n",
       "      <td>331.000</td>\n",
       "      <td>586.000</td>\n",
       "      <td>30111218.0</td>\n",
       "    </tr>\n",
       "    <tr>\n",
       "      <th>protein</th>\n",
       "      <td>15929.0</td>\n",
       "      <td>99.946199</td>\n",
       "      <td>3835.616663</td>\n",
       "      <td>0.0</td>\n",
       "      <td>3.00</td>\n",
       "      <td>8.000</td>\n",
       "      <td>27.000</td>\n",
       "      <td>236489.0</td>\n",
       "    </tr>\n",
       "    <tr>\n",
       "      <th>rating</th>\n",
       "      <td>20100.0</td>\n",
       "      <td>3.713060</td>\n",
       "      <td>1.343144</td>\n",
       "      <td>0.0</td>\n",
       "      <td>3.75</td>\n",
       "      <td>4.375</td>\n",
       "      <td>4.375</td>\n",
       "      <td>5.0</td>\n",
       "    </tr>\n",
       "    <tr>\n",
       "      <th>sodium</th>\n",
       "      <td>15974.0</td>\n",
       "      <td>6211.473832</td>\n",
       "      <td>332890.254083</td>\n",
       "      <td>0.0</td>\n",
       "      <td>80.00</td>\n",
       "      <td>294.000</td>\n",
       "      <td>711.000</td>\n",
       "      <td>27675110.0</td>\n",
       "    </tr>\n",
       "  </tbody>\n",
       "</table>\n",
       "</div>"
      ],
      "text/plain": [
       "            count         mean            std  min     25%      50%      75%  \\\n",
       "fat       15908.0   346.097498   20431.020991  0.0    7.00   17.000   33.000   \n",
       "calories  15976.0  6307.856848  358585.122970  0.0  198.00  331.000  586.000   \n",
       "protein   15929.0    99.946199    3835.616663  0.0    3.00    8.000   27.000   \n",
       "rating    20100.0     3.713060       1.343144  0.0    3.75    4.375    4.375   \n",
       "sodium    15974.0  6211.473832  332890.254083  0.0   80.00  294.000  711.000   \n",
       "\n",
       "                 max  \n",
       "fat        1722763.0  \n",
       "calories  30111218.0  \n",
       "protein     236489.0  \n",
       "rating           5.0  \n",
       "sodium    27675110.0  "
      ]
     },
     "execution_count": 8,
     "metadata": {},
     "output_type": "execute_result"
    }
   ],
   "source": [
    "recipes.describe().transpose()"
   ]
  },
  {
   "cell_type": "markdown",
   "id": "de7eeb61-16af-4cfd-b7af-846730adf13a",
   "metadata": {},
   "source": [
    "Now let's address missing values with imputing."
   ]
  },
  {
   "cell_type": "code",
   "execution_count": 9,
   "id": "8a3caeab-660c-4bba-ab75-804ec6646f2a",
   "metadata": {
    "tags": []
   },
   "outputs": [
    {
     "data": {
      "text/plain": [
       "directions        0\n",
       "fat            4203\n",
       "date              0\n",
       "categories        0\n",
       "calories       4135\n",
       "desc           6616\n",
       "protein        4182\n",
       "rating           11\n",
       "title             0\n",
       "ingredients       0\n",
       "sodium         4137\n",
       "dtype: int64"
      ]
     },
     "execution_count": 9,
     "metadata": {},
     "output_type": "execute_result"
    }
   ],
   "source": [
    "recipes.isnull().sum()"
   ]
  },
  {
   "cell_type": "code",
   "execution_count": 10,
   "id": "c609b97c-ec9e-4d72-aeb0-f3793ff2f590",
   "metadata": {
    "tags": []
   },
   "outputs": [
    {
     "data": {
      "text/plain": [
       "directions                  object\n",
       "fat                        float64\n",
       "date           datetime64[ns, UTC]\n",
       "categories                  object\n",
       "calories                   float64\n",
       "desc                        object\n",
       "protein                    float64\n",
       "rating                     float64\n",
       "title                       object\n",
       "ingredients                 object\n",
       "sodium                     float64\n",
       "dtype: object"
      ]
     },
     "execution_count": 10,
     "metadata": {},
     "output_type": "execute_result"
    }
   ],
   "source": [
    "recipes.dtypes"
   ]
  },
  {
   "cell_type": "markdown",
   "id": "bcb60254-fcd7-421e-8745-e117bb2c8437",
   "metadata": {},
   "source": [
    "#### 2.1 Defining column transformer for impute missing data according to the columns data type. "
   ]
  },
  {
   "cell_type": "code",
   "execution_count": 11,
   "id": "b07b88bc-995a-4237-9eeb-4534c23c15f3",
   "metadata": {
    "tags": []
   },
   "outputs": [],
   "source": [
    "NUMERICAL_FEATURES = recipes.select_dtypes(include='float64').columns.tolist()\n",
    "STRING_FEATURES = recipes.select_dtypes(include='object').columns.tolist()\n",
    "DATE_FEATURE = recipes.select_dtypes(include='datetime64[ns, UTC]').columns.tolist()"
   ]
  },
  {
   "cell_type": "code",
   "execution_count": 12,
   "id": "3220ecd3-217d-40aa-8658-e3b803c832ee",
   "metadata": {
    "tags": []
   },
   "outputs": [],
   "source": [
    "numerical_transformer = Pipeline(\n",
    "    steps=[('imputer', KNNImputer(n_neighbors=5, weights='uniform', metric='nan_euclidean'))])"
   ]
  },
  {
   "cell_type": "code",
   "execution_count": 13,
   "id": "962f0a3a-05b8-442b-8c2b-432808096a22",
   "metadata": {
    "tags": []
   },
   "outputs": [],
   "source": [
    "string_transformer = Pipeline(\n",
    "    steps=[('imputer', SimpleImputer(strategy='constant', fill_value='Missing'))])"
   ]
  },
  {
   "cell_type": "code",
   "execution_count": 14,
   "id": "bd113434-d5cf-4310-a685-6610122d40f5",
   "metadata": {
    "tags": []
   },
   "outputs": [],
   "source": [
    "date_transformer = Pipeline(\n",
    "    steps=[('imputer', SimpleImputer(strategy='median', missing_values=np.nan))])"
   ]
  },
  {
   "cell_type": "code",
   "execution_count": 15,
   "id": "04deb3ad-6205-469c-b5bd-6fb0ca6d6ffc",
   "metadata": {
    "tags": []
   },
   "outputs": [],
   "source": [
    "column_transformer = ColumnTransformer(\n",
    "    transformers=[\n",
    "        ('num', numerical_transformer, NUMERICAL_FEATURES),\n",
    "        ('str', string_transformer, STRING_FEATURES),\n",
    "        ('date', date_transformer, DATE_FEATURE)\n",
    "    ])"
   ]
  },
  {
   "cell_type": "markdown",
   "id": "36f82408-ca08-4a64-b296-c17351ffd8dd",
   "metadata": {},
   "source": [
    "Fitting the transformer"
   ]
  },
  {
   "cell_type": "code",
   "execution_count": 16,
   "id": "987de980-dfda-43a6-bbad-8001aa85102e",
   "metadata": {
    "tags": []
   },
   "outputs": [],
   "source": [
    "recipes = pd.DataFrame(column_transformer.fit_transform(recipes))"
   ]
  },
  {
   "cell_type": "code",
   "execution_count": 17,
   "id": "495a77ad-4a9c-4586-a836-a106bbdeeb4e",
   "metadata": {
    "tags": []
   },
   "outputs": [],
   "source": [
    "recipes.columns = ['fat', 'calories', 'protein', 'rating', 'sodium', 'directions', 'categories', 'desc', 'title', 'ingredients', 'date']"
   ]
  },
  {
   "cell_type": "code",
   "execution_count": 18,
   "id": "f733cb30-e024-4503-b70f-aad439971051",
   "metadata": {
    "tags": []
   },
   "outputs": [],
   "source": [
    "recipes.date = pd.to_datetime(recipes.date, infer_datetime_format=True)"
   ]
  },
  {
   "cell_type": "markdown",
   "id": "99f762ec-b7b5-4ce7-8766-1bf334cd9c0e",
   "metadata": {},
   "source": [
    "Dataset is now clean and ready for analysis."
   ]
  },
  {
   "cell_type": "code",
   "execution_count": 19,
   "id": "eae88d3a-b385-4041-9d5d-89d950f7ad1d",
   "metadata": {
    "tags": []
   },
   "outputs": [
    {
     "data": {
      "text/plain": [
       "fat            0\n",
       "calories       0\n",
       "protein        0\n",
       "rating         0\n",
       "sodium         0\n",
       "directions     0\n",
       "categories     0\n",
       "desc           0\n",
       "title          0\n",
       "ingredients    0\n",
       "date           0\n",
       "dtype: int64"
      ]
     },
     "execution_count": 19,
     "metadata": {},
     "output_type": "execute_result"
    }
   ],
   "source": [
    "recipes.isnull().sum()"
   ]
  },
  {
   "cell_type": "code",
   "execution_count": 20,
   "id": "53f94d25-b9ce-4c79-811d-cc3f137a921a",
   "metadata": {
    "tags": []
   },
   "outputs": [
    {
     "data": {
      "text/html": [
       "<div>\n",
       "<style scoped>\n",
       "    .dataframe tbody tr th:only-of-type {\n",
       "        vertical-align: middle;\n",
       "    }\n",
       "\n",
       "    .dataframe tbody tr th {\n",
       "        vertical-align: top;\n",
       "    }\n",
       "\n",
       "    .dataframe thead th {\n",
       "        text-align: right;\n",
       "    }\n",
       "</style>\n",
       "<table border=\"1\" class=\"dataframe\">\n",
       "  <thead>\n",
       "    <tr style=\"text-align: right;\">\n",
       "      <th></th>\n",
       "      <th>fat</th>\n",
       "      <th>calories</th>\n",
       "      <th>protein</th>\n",
       "      <th>rating</th>\n",
       "      <th>sodium</th>\n",
       "      <th>directions</th>\n",
       "      <th>categories</th>\n",
       "      <th>desc</th>\n",
       "      <th>title</th>\n",
       "      <th>ingredients</th>\n",
       "      <th>date</th>\n",
       "    </tr>\n",
       "  </thead>\n",
       "  <tbody>\n",
       "    <tr>\n",
       "      <th>93</th>\n",
       "      <td>3.0</td>\n",
       "      <td>62.0</td>\n",
       "      <td>2.0</td>\n",
       "      <td>3.75</td>\n",
       "      <td>603.0</td>\n",
       "      <td>[Place cucumbers in colander. Sprinkle with sa...</td>\n",
       "      <td>[Salad, Dairy, No-Cook, Yogurt, Mint, Cucumber...</td>\n",
       "      <td>Missing</td>\n",
       "      <td>Cucumber-Yogurt Salad with Mint</td>\n",
       "      <td>[3 medium cucumbers, peeled, seeded, diced, 1 ...</td>\n",
       "      <td>2004-08-20 04:00:00</td>\n",
       "    </tr>\n",
       "    <tr>\n",
       "      <th>14693</th>\n",
       "      <td>44.0</td>\n",
       "      <td>752.0</td>\n",
       "      <td>54.0</td>\n",
       "      <td>3.125</td>\n",
       "      <td>198.0</td>\n",
       "      <td>[Arrange pork in a single layer in a large bak...</td>\n",
       "      <td>[Egg, Herb, Pork, Marinate, Father's Day, Dinn...</td>\n",
       "      <td>An easy one-hour marinade guarantees tender ch...</td>\n",
       "      <td>Father's Day Pork Chops</td>\n",
       "      <td>[4 bone-in pork chops (about 2 pounds total), ...</td>\n",
       "      <td>2011-05-11 04:00:00</td>\n",
       "    </tr>\n",
       "    <tr>\n",
       "      <th>10482</th>\n",
       "      <td>382.0</td>\n",
       "      <td>5107.0</td>\n",
       "      <td>378.0</td>\n",
       "      <td>4.375</td>\n",
       "      <td>2143.0</td>\n",
       "      <td>[Sprinkle chicken with salt and pepper. Heat o...</td>\n",
       "      <td>[Chicken, Garlic, Herb, Olive, Tomato, Sauté, ...</td>\n",
       "      <td>Serve with some crusty bread.</td>\n",
       "      <td>Provencal Chicken with Tomatoes, Olives, and B...</td>\n",
       "      <td>[8 chicken thighs with skin and bone (about 2 ...</td>\n",
       "      <td>2007-05-30 17:38:09</td>\n",
       "    </tr>\n",
       "    <tr>\n",
       "      <th>4887</th>\n",
       "      <td>14.6</td>\n",
       "      <td>410.6</td>\n",
       "      <td>6.0</td>\n",
       "      <td>4.375</td>\n",
       "      <td>462.8</td>\n",
       "      <td>[Preheat oven to 350°F. Spread coconut evenly ...</td>\n",
       "      <td>[Chocolate, Egg, Dessert, Bake, Quick &amp; Easy, ...</td>\n",
       "      <td>Missing</td>\n",
       "      <td>Toasted Coconut and Dark Chocolate Meringues</td>\n",
       "      <td>[1/2 cup unsweetened medium shredded coconut*,...</td>\n",
       "      <td>2005-12-01 04:00:00</td>\n",
       "    </tr>\n",
       "    <tr>\n",
       "      <th>380</th>\n",
       "      <td>6.0</td>\n",
       "      <td>229.0</td>\n",
       "      <td>2.0</td>\n",
       "      <td>5.0</td>\n",
       "      <td>18.0</td>\n",
       "      <td>[Combine 2 cups mint leaves, 1 1/4 cups water,...</td>\n",
       "      <td>[Milk/Cream, Dessert, Freeze/Chill, Kid-Friend...</td>\n",
       "      <td>Missing</td>\n",
       "      <td>Icy Lemon-Mint Parfaits</td>\n",
       "      <td>[2 cups loosely packed fresh mint leaves plus ...</td>\n",
       "      <td>2006-04-01 04:00:00</td>\n",
       "    </tr>\n",
       "  </tbody>\n",
       "</table>\n",
       "</div>"
      ],
      "text/plain": [
       "         fat calories protein rating  sodium  \\\n",
       "93       3.0     62.0     2.0   3.75   603.0   \n",
       "14693   44.0    752.0    54.0  3.125   198.0   \n",
       "10482  382.0   5107.0   378.0  4.375  2143.0   \n",
       "4887    14.6    410.6     6.0  4.375   462.8   \n",
       "380      6.0    229.0     2.0    5.0    18.0   \n",
       "\n",
       "                                              directions  \\\n",
       "93     [Place cucumbers in colander. Sprinkle with sa...   \n",
       "14693  [Arrange pork in a single layer in a large bak...   \n",
       "10482  [Sprinkle chicken with salt and pepper. Heat o...   \n",
       "4887   [Preheat oven to 350°F. Spread coconut evenly ...   \n",
       "380    [Combine 2 cups mint leaves, 1 1/4 cups water,...   \n",
       "\n",
       "                                              categories  \\\n",
       "93     [Salad, Dairy, No-Cook, Yogurt, Mint, Cucumber...   \n",
       "14693  [Egg, Herb, Pork, Marinate, Father's Day, Dinn...   \n",
       "10482  [Chicken, Garlic, Herb, Olive, Tomato, Sauté, ...   \n",
       "4887   [Chocolate, Egg, Dessert, Bake, Quick & Easy, ...   \n",
       "380    [Milk/Cream, Dessert, Freeze/Chill, Kid-Friend...   \n",
       "\n",
       "                                                    desc  \\\n",
       "93                                               Missing   \n",
       "14693  An easy one-hour marinade guarantees tender ch...   \n",
       "10482                      Serve with some crusty bread.   \n",
       "4887                                             Missing   \n",
       "380                                              Missing   \n",
       "\n",
       "                                                   title  \\\n",
       "93                      Cucumber-Yogurt Salad with Mint    \n",
       "14693                           Father's Day Pork Chops    \n",
       "10482  Provencal Chicken with Tomatoes, Olives, and B...   \n",
       "4887       Toasted Coconut and Dark Chocolate Meringues    \n",
       "380                             Icy Lemon-Mint Parfaits    \n",
       "\n",
       "                                             ingredients                date  \n",
       "93     [3 medium cucumbers, peeled, seeded, diced, 1 ... 2004-08-20 04:00:00  \n",
       "14693  [4 bone-in pork chops (about 2 pounds total), ... 2011-05-11 04:00:00  \n",
       "10482  [8 chicken thighs with skin and bone (about 2 ... 2007-05-30 17:38:09  \n",
       "4887   [1/2 cup unsweetened medium shredded coconut*,... 2005-12-01 04:00:00  \n",
       "380    [2 cups loosely packed fresh mint leaves plus ... 2006-04-01 04:00:00  "
      ]
     },
     "execution_count": 20,
     "metadata": {},
     "output_type": "execute_result"
    }
   ],
   "source": [
    "recipes.sample(5)"
   ]
  },
  {
   "cell_type": "code",
   "execution_count": 21,
   "id": "9d5347b5-5704-4c52-b808-7cbe236abbba",
   "metadata": {
    "tags": []
   },
   "outputs": [],
   "source": [
    "recipes[NUMERICAL_FEATURES] = recipes[NUMERICAL_FEATURES].astype('float64')"
   ]
  },
  {
   "cell_type": "code",
   "execution_count": 22,
   "id": "14b0cba1-ff40-455d-b1d4-f3b62d1d3ad2",
   "metadata": {
    "tags": []
   },
   "outputs": [
    {
     "data": {
      "text/plain": [
       "fat                   float64\n",
       "calories              float64\n",
       "protein               float64\n",
       "rating                float64\n",
       "sodium                float64\n",
       "directions             object\n",
       "categories             object\n",
       "desc                   object\n",
       "title                  object\n",
       "ingredients            object\n",
       "date           datetime64[ns]\n",
       "dtype: object"
      ]
     },
     "execution_count": 22,
     "metadata": {},
     "output_type": "execute_result"
    }
   ],
   "source": [
    "recipes.dtypes"
   ]
  },
  {
   "cell_type": "code",
   "execution_count": 23,
   "id": "677ab921-f8c6-49f6-915f-b93f4edb387f",
   "metadata": {
    "tags": []
   },
   "outputs": [
    {
     "data": {
      "text/html": [
       "<div>\n",
       "<style scoped>\n",
       "    .dataframe tbody tr th:only-of-type {\n",
       "        vertical-align: middle;\n",
       "    }\n",
       "\n",
       "    .dataframe tbody tr th {\n",
       "        vertical-align: top;\n",
       "    }\n",
       "\n",
       "    .dataframe thead th {\n",
       "        text-align: right;\n",
       "    }\n",
       "</style>\n",
       "<table border=\"1\" class=\"dataframe\">\n",
       "  <thead>\n",
       "    <tr style=\"text-align: right;\">\n",
       "      <th></th>\n",
       "      <th>count</th>\n",
       "      <th>mean</th>\n",
       "      <th>std</th>\n",
       "      <th>min</th>\n",
       "      <th>25%</th>\n",
       "      <th>50%</th>\n",
       "      <th>75%</th>\n",
       "      <th>max</th>\n",
       "    </tr>\n",
       "  </thead>\n",
       "  <tbody>\n",
       "    <tr>\n",
       "      <th>fat</th>\n",
       "      <td>20111.0</td>\n",
       "      <td>278.327452</td>\n",
       "      <td>18171.453123</td>\n",
       "      <td>0.0</td>\n",
       "      <td>7.00</td>\n",
       "      <td>16.000</td>\n",
       "      <td>33.000</td>\n",
       "      <td>1722763.0</td>\n",
       "    </tr>\n",
       "    <tr>\n",
       "      <th>calories</th>\n",
       "      <td>20111.0</td>\n",
       "      <td>5099.741625</td>\n",
       "      <td>319608.758771</td>\n",
       "      <td>0.0</td>\n",
       "      <td>229.00</td>\n",
       "      <td>408.000</td>\n",
       "      <td>524.000</td>\n",
       "      <td>30111218.0</td>\n",
       "    </tr>\n",
       "    <tr>\n",
       "      <th>protein</th>\n",
       "      <td>20111.0</td>\n",
       "      <td>80.677807</td>\n",
       "      <td>3413.785282</td>\n",
       "      <td>0.0</td>\n",
       "      <td>4.00</td>\n",
       "      <td>7.200</td>\n",
       "      <td>19.000</td>\n",
       "      <td>236489.0</td>\n",
       "    </tr>\n",
       "    <tr>\n",
       "      <th>rating</th>\n",
       "      <td>20111.0</td>\n",
       "      <td>3.713085</td>\n",
       "      <td>1.342793</td>\n",
       "      <td>0.0</td>\n",
       "      <td>3.75</td>\n",
       "      <td>4.375</td>\n",
       "      <td>4.375</td>\n",
       "      <td>5.0</td>\n",
       "    </tr>\n",
       "    <tr>\n",
       "      <th>sodium</th>\n",
       "      <td>20111.0</td>\n",
       "      <td>5022.323211</td>\n",
       "      <td>296689.235380</td>\n",
       "      <td>0.0</td>\n",
       "      <td>102.00</td>\n",
       "      <td>382.400</td>\n",
       "      <td>571.000</td>\n",
       "      <td>27675110.0</td>\n",
       "    </tr>\n",
       "  </tbody>\n",
       "</table>\n",
       "</div>"
      ],
      "text/plain": [
       "            count         mean            std  min     25%      50%      75%  \\\n",
       "fat       20111.0   278.327452   18171.453123  0.0    7.00   16.000   33.000   \n",
       "calories  20111.0  5099.741625  319608.758771  0.0  229.00  408.000  524.000   \n",
       "protein   20111.0    80.677807    3413.785282  0.0    4.00    7.200   19.000   \n",
       "rating    20111.0     3.713085       1.342793  0.0    3.75    4.375    4.375   \n",
       "sodium    20111.0  5022.323211  296689.235380  0.0  102.00  382.400  571.000   \n",
       "\n",
       "                 max  \n",
       "fat        1722763.0  \n",
       "calories  30111218.0  \n",
       "protein     236489.0  \n",
       "rating           5.0  \n",
       "sodium    27675110.0  "
      ]
     },
     "execution_count": 23,
     "metadata": {},
     "output_type": "execute_result"
    }
   ],
   "source": [
    "recipes.describe().transpose()"
   ]
  },
  {
   "cell_type": "markdown",
   "id": "6eb90196-e8d7-44d8-856a-009f69354dea",
   "metadata": {
    "tags": []
   },
   "source": [
    "### 3. What are the mean recipes calories, fat and protein throughout the years?"
   ]
  },
  {
   "cell_type": "code",
   "execution_count": 24,
   "id": "f990bb0d-f86d-4a3d-ab56-f5df526affea",
   "metadata": {
    "tags": []
   },
   "outputs": [],
   "source": [
    "sorted_recipes = recipes.sort_values(by='date', ascending=True)"
   ]
  },
  {
   "cell_type": "code",
   "execution_count": 25,
   "id": "01770a2d-4f85-4c88-a520-8a655844c521",
   "metadata": {
    "tags": []
   },
   "outputs": [
    {
     "data": {
      "text/html": [
       "<div>\n",
       "<style scoped>\n",
       "    .dataframe tbody tr th:only-of-type {\n",
       "        vertical-align: middle;\n",
       "    }\n",
       "\n",
       "    .dataframe tbody tr th {\n",
       "        vertical-align: top;\n",
       "    }\n",
       "\n",
       "    .dataframe thead th {\n",
       "        text-align: right;\n",
       "    }\n",
       "</style>\n",
       "<table border=\"1\" class=\"dataframe\">\n",
       "  <thead>\n",
       "    <tr style=\"text-align: right;\">\n",
       "      <th></th>\n",
       "      <th>fat</th>\n",
       "      <th>calories</th>\n",
       "      <th>protein</th>\n",
       "      <th>rating</th>\n",
       "      <th>sodium</th>\n",
       "      <th>directions</th>\n",
       "      <th>categories</th>\n",
       "      <th>desc</th>\n",
       "      <th>title</th>\n",
       "      <th>ingredients</th>\n",
       "      <th>date</th>\n",
       "    </tr>\n",
       "  </thead>\n",
       "  <tbody>\n",
       "    <tr>\n",
       "      <th>4759</th>\n",
       "      <td>15.0</td>\n",
       "      <td>299.0</td>\n",
       "      <td>2.0</td>\n",
       "      <td>3.750</td>\n",
       "      <td>22.0</td>\n",
       "      <td>[Puree 2 1/2 cups raspberries, powdered sugar,...</td>\n",
       "      <td>[Milk/Cream, Blender, Mixer, Dessert, Frozen D...</td>\n",
       "      <td>This egg-free mousse packs punchy raspberry fl...</td>\n",
       "      <td>Frozen Raspberry Mousse</td>\n",
       "      <td>[3 cups fresh raspberries, divided (about 16 o...</td>\n",
       "      <td>2008-06-03 15:34:11</td>\n",
       "    </tr>\n",
       "    <tr>\n",
       "      <th>1724</th>\n",
       "      <td>1.0</td>\n",
       "      <td>175.0</td>\n",
       "      <td>3.0</td>\n",
       "      <td>3.750</td>\n",
       "      <td>739.0</td>\n",
       "      <td>[Whisk together lemon juice, sugar, salt, cumi...</td>\n",
       "      <td>[Salad, Fruit, Side, No-Cook, Vegetarian, Quic...</td>\n",
       "      <td>Missing</td>\n",
       "      <td>Fig and Carrot Slaw</td>\n",
       "      <td>[3 tablespoons fresh lemon juice, 2 tablespoon...</td>\n",
       "      <td>2004-08-20 04:00:00</td>\n",
       "    </tr>\n",
       "    <tr>\n",
       "      <th>16711</th>\n",
       "      <td>3.0</td>\n",
       "      <td>386.0</td>\n",
       "      <td>8.0</td>\n",
       "      <td>4.375</td>\n",
       "      <td>336.0</td>\n",
       "      <td>[If using katsuo bushi flakes from package, mo...</td>\n",
       "      <td>[Rice, Side, Soy Sauce, Gourmet, Sugar Conscio...</td>\n",
       "      <td>We love this recipe as much for the soy-glazed...</td>\n",
       "      <td>Rice with Soy-Glazed Bonito Flakes and Sesame ...</td>\n",
       "      <td>[Leftover katsuo bushi (dried bonito flakes) f...</td>\n",
       "      <td>2004-08-20 04:00:00</td>\n",
       "    </tr>\n",
       "    <tr>\n",
       "      <th>17583</th>\n",
       "      <td>26.0</td>\n",
       "      <td>336.0</td>\n",
       "      <td>13.0</td>\n",
       "      <td>4.375</td>\n",
       "      <td>346.0</td>\n",
       "      <td>[Preheat broiler., Whisk together vinegar, lem...</td>\n",
       "      <td>[Salad, Cheese, Leafy Green, Nut, Tomato, Appe...</td>\n",
       "      <td>The contrast of textures and flavors—crunchy p...</td>\n",
       "      <td>Arugula-Chicory Salad with Pine Nuts and Goat-...</td>\n",
       "      <td>[1 teaspoon red-wine vinegar, 1 teaspoon fresh...</td>\n",
       "      <td>2004-08-20 04:00:00</td>\n",
       "    </tr>\n",
       "    <tr>\n",
       "      <th>17031</th>\n",
       "      <td>4.0</td>\n",
       "      <td>54.0</td>\n",
       "      <td>2.0</td>\n",
       "      <td>3.750</td>\n",
       "      <td>13.0</td>\n",
       "      <td>[Cut off and reserve the stem ends of the zucc...</td>\n",
       "      <td>[Lamb, Steam, Cocktail Party, Yogurt, Zucchini...</td>\n",
       "      <td>Missing</td>\n",
       "      <td>Middle Eastern Lamb-Stuffed Zucchini with Yogu...</td>\n",
       "      <td>[four 6-ounce straight zucchini, scrubbed, 1 t...</td>\n",
       "      <td>2004-08-20 04:00:00</td>\n",
       "    </tr>\n",
       "  </tbody>\n",
       "</table>\n",
       "</div>"
      ],
      "text/plain": [
       "        fat  calories  protein  rating  sodium  \\\n",
       "4759   15.0     299.0      2.0   3.750    22.0   \n",
       "1724    1.0     175.0      3.0   3.750   739.0   \n",
       "16711   3.0     386.0      8.0   4.375   336.0   \n",
       "17583  26.0     336.0     13.0   4.375   346.0   \n",
       "17031   4.0      54.0      2.0   3.750    13.0   \n",
       "\n",
       "                                              directions  \\\n",
       "4759   [Puree 2 1/2 cups raspberries, powdered sugar,...   \n",
       "1724   [Whisk together lemon juice, sugar, salt, cumi...   \n",
       "16711  [If using katsuo bushi flakes from package, mo...   \n",
       "17583  [Preheat broiler., Whisk together vinegar, lem...   \n",
       "17031  [Cut off and reserve the stem ends of the zucc...   \n",
       "\n",
       "                                              categories  \\\n",
       "4759   [Milk/Cream, Blender, Mixer, Dessert, Frozen D...   \n",
       "1724   [Salad, Fruit, Side, No-Cook, Vegetarian, Quic...   \n",
       "16711  [Rice, Side, Soy Sauce, Gourmet, Sugar Conscio...   \n",
       "17583  [Salad, Cheese, Leafy Green, Nut, Tomato, Appe...   \n",
       "17031  [Lamb, Steam, Cocktail Party, Yogurt, Zucchini...   \n",
       "\n",
       "                                                    desc  \\\n",
       "4759   This egg-free mousse packs punchy raspberry fl...   \n",
       "1724                                             Missing   \n",
       "16711  We love this recipe as much for the soy-glazed...   \n",
       "17583  The contrast of textures and flavors—crunchy p...   \n",
       "17031                                            Missing   \n",
       "\n",
       "                                                   title  \\\n",
       "4759                            Frozen Raspberry Mousse    \n",
       "1724                                Fig and Carrot Slaw    \n",
       "16711  Rice with Soy-Glazed Bonito Flakes and Sesame ...   \n",
       "17583  Arugula-Chicory Salad with Pine Nuts and Goat-...   \n",
       "17031  Middle Eastern Lamb-Stuffed Zucchini with Yogu...   \n",
       "\n",
       "                                             ingredients                date  \n",
       "4759   [3 cups fresh raspberries, divided (about 16 o... 2008-06-03 15:34:11  \n",
       "1724   [3 tablespoons fresh lemon juice, 2 tablespoon... 2004-08-20 04:00:00  \n",
       "16711  [Leftover katsuo bushi (dried bonito flakes) f... 2004-08-20 04:00:00  \n",
       "17583  [1 teaspoon red-wine vinegar, 1 teaspoon fresh... 2004-08-20 04:00:00  \n",
       "17031  [four 6-ounce straight zucchini, scrubbed, 1 t... 2004-08-20 04:00:00  "
      ]
     },
     "execution_count": 25,
     "metadata": {},
     "output_type": "execute_result"
    }
   ],
   "source": [
    "sorted_recipes.sample(5)"
   ]
  },
  {
   "cell_type": "code",
   "execution_count": 26,
   "id": "27852edb-8bb3-4421-9bd9-b1735ee67208",
   "metadata": {
    "tags": []
   },
   "outputs": [
    {
     "data": {
      "text/html": [
       "<div>\n",
       "<style scoped>\n",
       "    .dataframe tbody tr th:only-of-type {\n",
       "        vertical-align: middle;\n",
       "    }\n",
       "\n",
       "    .dataframe tbody tr th {\n",
       "        vertical-align: top;\n",
       "    }\n",
       "\n",
       "    .dataframe thead th {\n",
       "        text-align: right;\n",
       "    }\n",
       "</style>\n",
       "<table border=\"1\" class=\"dataframe\">\n",
       "  <thead>\n",
       "    <tr style=\"text-align: right;\">\n",
       "      <th></th>\n",
       "      <th>count</th>\n",
       "      <th>mean</th>\n",
       "      <th>std</th>\n",
       "      <th>min</th>\n",
       "      <th>25%</th>\n",
       "      <th>50%</th>\n",
       "      <th>75%</th>\n",
       "      <th>max</th>\n",
       "    </tr>\n",
       "  </thead>\n",
       "  <tbody>\n",
       "    <tr>\n",
       "      <th>fat</th>\n",
       "      <td>20111.0</td>\n",
       "      <td>278.327452</td>\n",
       "      <td>18171.453123</td>\n",
       "      <td>0.0</td>\n",
       "      <td>7.00</td>\n",
       "      <td>16.000</td>\n",
       "      <td>33.000</td>\n",
       "      <td>1722763.0</td>\n",
       "    </tr>\n",
       "    <tr>\n",
       "      <th>calories</th>\n",
       "      <td>20111.0</td>\n",
       "      <td>5099.741625</td>\n",
       "      <td>319608.758771</td>\n",
       "      <td>0.0</td>\n",
       "      <td>229.00</td>\n",
       "      <td>408.000</td>\n",
       "      <td>524.000</td>\n",
       "      <td>30111218.0</td>\n",
       "    </tr>\n",
       "    <tr>\n",
       "      <th>protein</th>\n",
       "      <td>20111.0</td>\n",
       "      <td>80.677807</td>\n",
       "      <td>3413.785282</td>\n",
       "      <td>0.0</td>\n",
       "      <td>4.00</td>\n",
       "      <td>7.200</td>\n",
       "      <td>19.000</td>\n",
       "      <td>236489.0</td>\n",
       "    </tr>\n",
       "    <tr>\n",
       "      <th>rating</th>\n",
       "      <td>20111.0</td>\n",
       "      <td>3.713085</td>\n",
       "      <td>1.342793</td>\n",
       "      <td>0.0</td>\n",
       "      <td>3.75</td>\n",
       "      <td>4.375</td>\n",
       "      <td>4.375</td>\n",
       "      <td>5.0</td>\n",
       "    </tr>\n",
       "    <tr>\n",
       "      <th>sodium</th>\n",
       "      <td>20111.0</td>\n",
       "      <td>5022.323211</td>\n",
       "      <td>296689.235380</td>\n",
       "      <td>0.0</td>\n",
       "      <td>102.00</td>\n",
       "      <td>382.400</td>\n",
       "      <td>571.000</td>\n",
       "      <td>27675110.0</td>\n",
       "    </tr>\n",
       "  </tbody>\n",
       "</table>\n",
       "</div>"
      ],
      "text/plain": [
       "            count         mean            std  min     25%      50%      75%  \\\n",
       "fat       20111.0   278.327452   18171.453123  0.0    7.00   16.000   33.000   \n",
       "calories  20111.0  5099.741625  319608.758771  0.0  229.00  408.000  524.000   \n",
       "protein   20111.0    80.677807    3413.785282  0.0    4.00    7.200   19.000   \n",
       "rating    20111.0     3.713085       1.342793  0.0    3.75    4.375    4.375   \n",
       "sodium    20111.0  5022.323211  296689.235380  0.0  102.00  382.400  571.000   \n",
       "\n",
       "                 max  \n",
       "fat        1722763.0  \n",
       "calories  30111218.0  \n",
       "protein     236489.0  \n",
       "rating           5.0  \n",
       "sodium    27675110.0  "
      ]
     },
     "execution_count": 26,
     "metadata": {},
     "output_type": "execute_result"
    }
   ],
   "source": [
    "sorted_recipes.describe().transpose()"
   ]
  },
  {
   "cell_type": "code",
   "execution_count": 27,
   "id": "db995384-3260-4dcc-82fa-d553d45feaea",
   "metadata": {
    "tags": []
   },
   "outputs": [],
   "source": [
    "def plot_evolution(feature, ax):    \n",
    "    data = pd.concat([sorted_recipes.date, sorted_recipes[feature]], axis=1)\n",
    "    data['counter'] = range(1, len(data)+1, 1)\n",
    "    data = data.rename(columns={feature: 'AVERAGE ' + feature})\n",
    "    data['AVERAGE ' + feature] = data['AVERAGE ' + feature].cumsum() / data.counter\n",
    "    sns.lineplot(data=data, x='date', y='AVERAGE ' + feature, ax=ax)"
   ]
  },
  {
   "cell_type": "markdown",
   "id": "74efb11c-28c8-4dc0-a138-4e7c73c8a980",
   "metadata": {},
   "source": [
    "All features mean converge to the described value. There is a direct relationship between fat and calorie"
   ]
  },
  {
   "cell_type": "markdown",
   "id": "a56488ea-d06c-4583-8d22-5d81ada4b4da",
   "metadata": {},
   "source": [
    "Ratings mean increase in the first years and maintain close to 3.7 from 2005 till 2016."
   ]
  },
  {
   "cell_type": "code",
   "execution_count": 28,
   "id": "31867f4b-b619-4a15-8ccf-1be370350a38",
   "metadata": {
    "tags": []
   },
   "outputs": [
    {
     "data": {
      "text/plain": [
       "<Axes: >"
      ]
     },
     "execution_count": 28,
     "metadata": {},
     "output_type": "execute_result"
    },
    {
     "data": {
      "image/png": "[encoded data removed]",
      "text/plain": [
       "<Figure size 640x480 with 2 Axes>"
      ]
     },
     "metadata": {},
     "output_type": "display_data"
    }
   ],
   "source": [
    "sns.heatmap(sorted_recipes.corr(numeric_only=True), annot=True, vmin=-1, vmax=1)"
   ]
  },
  {
   "cell_type": "markdown",
   "id": "3e53c6bb-a148-49a3-ab19-0e83aac27736",
   "metadata": {},
   "source": [
    "We can see from both lineplot and correlation heatmap how strongly related are 'fat' and 'calories'."
   ]
  },
  {
   "cell_type": "markdown",
   "id": "3186bc5c-e5af-40c2-85ff-cc7894cf9e2e",
   "metadata": {},
   "source": [
    "It is also important to highlight that effectively sodium varies according to fat as well. In general, protein quantities in recipes influence in the final amount of calorical properties in the food."
   ]
  },
  {
   "cell_type": "code",
   "execution_count": 29,
   "id": "4066ebd6-6aac-4a9d-b711-1141978adae3",
   "metadata": {
    "tags": []
   },
   "outputs": [
    {
     "data": {
      "image/png": "[encoded data removed]",
      "text/plain": [
       "<Figure size 1600x400 with 4 Axes>"
      ]
     },
     "metadata": {},
     "output_type": "display_data"
    }
   ],
   "source": [
    "fig, ax = plt.subplots(figsize=(16,4), ncols=4)\n",
    "\n",
    "plot_evolution('protein', ax[0])\n",
    "plot_evolution('fat', ax[1])\n",
    "plot_evolution('calories', ax[2])\n",
    "plot_evolution('rating', ax[3])"
   ]
  },
  {
   "cell_type": "markdown",
   "id": "689d7ace-8dff-4dfe-948d-e635be86ecb4",
   "metadata": {},
   "source": [
    "### 4. Plot histograms for the numerical variables"
   ]
  },
  {
   "cell_type": "markdown",
   "id": "e45cac3e-309c-4d1b-b7a9-ba749ac1fcf6",
   "metadata": {},
   "source": [
    "As the standard deviaton for some features are too high, in order to plot the histograms we are using unsupervised outlier detection to visualize the remaining recipes that have values closer their mean."
   ]
  },
  {
   "cell_type": "code",
   "execution_count": 30,
   "id": "ac215632-fcf1-4e57-94cd-bf2b57b2699b",
   "metadata": {
    "tags": []
   },
   "outputs": [],
   "source": [
    "nums_scaled = pd.DataFrame(MinMaxScaler().fit_transform(sorted_recipes[NUMERICAL_FEATURES]))"
   ]
  },
  {
   "cell_type": "code",
   "execution_count": 31,
   "id": "845f0421-7a97-4790-a7bd-1ebd328e23b4",
   "metadata": {
    "tags": []
   },
   "outputs": [],
   "source": [
    "lof = LocalOutlierFactor(n_neighbors=20).fit(nums_scaled)"
   ]
  },
  {
   "cell_type": "code",
   "execution_count": 32,
   "id": "18ae52a6-d002-497e-909c-9684924dce1a",
   "metadata": {
    "tags": []
   },
   "outputs": [
    {
     "data": {
      "text/plain": [
       " 1    19147\n",
       "-1      964\n",
       "dtype: int64"
      ]
     },
     "execution_count": 32,
     "metadata": {},
     "output_type": "execute_result"
    }
   ],
   "source": [
    "outliers_preds = lof.fit_predict(nums_scaled)\n",
    "pd.DataFrame(outliers_preds).value_counts()"
   ]
  },
  {
   "cell_type": "markdown",
   "id": "01c028b1-bad2-4a8f-9da4-e25319074bf6",
   "metadata": {},
   "source": [
    "Filtering only the recipes considered not outliers, excluding the ones too much calorical, with too much sodium and fat, ect."
   ]
  },
  {
   "cell_type": "code",
   "execution_count": 33,
   "id": "6786e3a0-8dd7-4a8e-b971-96bbf0df0675",
   "metadata": {
    "tags": []
   },
   "outputs": [],
   "source": [
    "sorted_recipes = sorted_recipes[outliers_preds == 1]"
   ]
  },
  {
   "cell_type": "markdown",
   "id": "9e519be3-49ce-4f30-9c4c-306bcb6b01f8",
   "metadata": {},
   "source": [
    "The histograms for the food properties are quite similar and proportionally equivalent. This is the reflection of the previously discussed correlation coefficient between these features."
   ]
  },
  {
   "cell_type": "markdown",
   "id": "af623791-ccc4-4c05-9ca5-577839ad5018",
   "metadata": {},
   "source": [
    "In general, the recipes are either good or great rated."
   ]
  },
  {
   "cell_type": "code",
   "execution_count": 34,
   "id": "485bdb77-c127-4294-a5a8-6003b0c5f4c0",
   "metadata": {
    "tags": []
   },
   "outputs": [
    {
     "data": {
      "image/png": "[encoded data removed]",
      "text/plain": [
       "<Figure size 2000x400 with 5 Axes>"
      ]
     },
     "metadata": {},
     "output_type": "display_data"
    }
   ],
   "source": [
    "fig, ax = plt.subplots(ncols=5, figsize=(20, 4))\n",
    "sns.histplot(data=sorted_recipes, x='rating', ax=ax[0])\n",
    "sns.histplot(data=sorted_recipes, x='protein', ax=ax[1])\n",
    "sns.histplot(data=sorted_recipes, x='fat', ax=ax[2])\n",
    "sns.histplot(data=sorted_recipes, x='calories', ax=ax[3])\n",
    "sns.histplot(data=sorted_recipes, x='sodium', ax=ax[4])\n",
    "plt.show()"
   ]
  },
  {
   "cell_type": "markdown",
   "id": "a32b395c-895d-47ce-9ff9-c7c5d2f84a34",
   "metadata": {},
   "source": [
    "### 5. Scatter plots between the numerical features"
   ]
  },
  {
   "cell_type": "markdown",
   "id": "a4cb0e66-b26a-4f5c-a2d9-dfbc20095b54",
   "metadata": {},
   "source": [
    "It is evident a boundary line in the scatterplots. The first one, calories vs fat, explicitly shows the strong correlation between these two features. It is not possible to have a recipe for any food where the amount of fat is too high and the overall calorie is low. They are linearly related. This also happens between protein and calorie but it is less accentuaded. Less explicitly, fat and protein also define a region of possible values for each of them."
   ]
  },
  {
   "cell_type": "code",
   "execution_count": 35,
   "id": "4003f971-b487-4a36-bced-ec421b19d753",
   "metadata": {
    "tags": []
   },
   "outputs": [
    {
     "data": {
      "image/png": "[encoded data removed]",
      "text/plain": [
       "<Figure size 2000x400 with 3 Axes>"
      ]
     },
     "metadata": {},
     "output_type": "display_data"
    }
   ],
   "source": [
    "fig, ax = plt.subplots(ncols=3, figsize=(20, 4))\n",
    "sns.scatterplot(data=sorted_recipes, x='fat', y='calories', ax=ax[0])\n",
    "sns.scatterplot(data=sorted_recipes, x='protein', y='calories',ax=ax[1])\n",
    "sns.scatterplot(data=sorted_recipes, x='fat', y='protein', ax=ax[2])\n",
    "plt.show()"
   ]
  },
  {
   "cell_type": "markdown",
   "id": "1e4aab5a-3c5b-411e-a2e4-390d902bc57f",
   "metadata": {
    "tags": []
   },
   "source": [
    "### 6. Bucketizing the ratings to visualize some data considering intervals of ratings as categories."
   ]
  },
  {
   "cell_type": "markdown",
   "id": "10e20817-c46c-4bc6-81ba-a402137e262b",
   "metadata": {},
   "source": [
    "Minimum value for rating is 0 and maximum is 5.\n",
    "This way, we can define buckets of length 1.0 starting from 0.0 and going up to 5.0 inclusive.\n",
    "Total of five categories for ratings."
   ]
  },
  {
   "cell_type": "code",
   "execution_count": 36,
   "id": "0f209e3f-74c3-41ff-ba2b-7038e74aeddc",
   "metadata": {
    "tags": []
   },
   "outputs": [
    {
     "data": {
      "text/plain": [
       "count    20111.000000\n",
       "mean         3.713085\n",
       "std          1.342793\n",
       "min          0.000000\n",
       "25%          3.750000\n",
       "50%          4.375000\n",
       "75%          4.375000\n",
       "max          5.000000\n",
       "Name: rating, dtype: float64"
      ]
     },
     "execution_count": 36,
     "metadata": {},
     "output_type": "execute_result"
    }
   ],
   "source": [
    "recipes.rating.describe().transpose()"
   ]
  },
  {
   "cell_type": "code",
   "execution_count": 37,
   "id": "d29c5778-2342-4c85-afa4-c44106058573",
   "metadata": {
    "tags": []
   },
   "outputs": [],
   "source": [
    "bins = [.0, 1., 2., 3., 4., 5.]\n",
    "labels = ['really bad', 'bad', 'normal', 'good', 'great']\n",
    "recipes['bucket_rating'] = pd.cut(recipes['rating'], bins=bins, labels=labels, include_lowest=True)"
   ]
  },
  {
   "cell_type": "code",
   "execution_count": 38,
   "id": "e0e025a8-9485-4ced-a3fa-af57c86ecc46",
   "metadata": {
    "tags": []
   },
   "outputs": [
    {
     "data": {
      "text/html": [
       "<div>\n",
       "<style scoped>\n",
       "    .dataframe tbody tr th:only-of-type {\n",
       "        vertical-align: middle;\n",
       "    }\n",
       "\n",
       "    .dataframe tbody tr th {\n",
       "        vertical-align: top;\n",
       "    }\n",
       "\n",
       "    .dataframe thead th {\n",
       "        text-align: right;\n",
       "    }\n",
       "</style>\n",
       "<table border=\"1\" class=\"dataframe\">\n",
       "  <thead>\n",
       "    <tr style=\"text-align: right;\">\n",
       "      <th></th>\n",
       "      <th>fat</th>\n",
       "      <th>calories</th>\n",
       "      <th>protein</th>\n",
       "      <th>rating</th>\n",
       "      <th>sodium</th>\n",
       "      <th>directions</th>\n",
       "      <th>categories</th>\n",
       "      <th>desc</th>\n",
       "      <th>title</th>\n",
       "      <th>ingredients</th>\n",
       "      <th>date</th>\n",
       "      <th>bucket_rating</th>\n",
       "    </tr>\n",
       "  </thead>\n",
       "  <tbody>\n",
       "    <tr>\n",
       "      <th>13535</th>\n",
       "      <td>6.0</td>\n",
       "      <td>73.0</td>\n",
       "      <td>1.0</td>\n",
       "      <td>3.750</td>\n",
       "      <td>27.0</td>\n",
       "      <td>[Follow recipe for basic butter cookies to mak...</td>\n",
       "      <td>[Cookies, Bake, Pine Nut, Gourmet]</td>\n",
       "      <td>Active time: 1 1/4 hr Start to finish: 3 hr (i...</td>\n",
       "      <td>Pine Nut Tassies</td>\n",
       "      <td>[Ingredients for basic butter cookies, 2/3 cup...</td>\n",
       "      <td>2004-08-20 04:00:00</td>\n",
       "      <td>good</td>\n",
       "    </tr>\n",
       "    <tr>\n",
       "      <th>6456</th>\n",
       "      <td>464.0</td>\n",
       "      <td>4188.0</td>\n",
       "      <td>2.0</td>\n",
       "      <td>5.000</td>\n",
       "      <td>171.0</td>\n",
       "      <td>[In a small bowl stir together mayonnaise, zes...</td>\n",
       "      <td>[Side, Fry, Cocktail Party, Vegetarian, Quick ...</td>\n",
       "      <td>Missing</td>\n",
       "      <td>Jerusalem Artichoke Chips with Lemon Thyme Dip</td>\n",
       "      <td>[1/4 cup mayonnaise, 1 teaspoon finely grated ...</td>\n",
       "      <td>2004-08-20 04:00:00</td>\n",
       "      <td>great</td>\n",
       "    </tr>\n",
       "    <tr>\n",
       "      <th>2494</th>\n",
       "      <td>12.0</td>\n",
       "      <td>207.0</td>\n",
       "      <td>4.0</td>\n",
       "      <td>4.375</td>\n",
       "      <td>91.0</td>\n",
       "      <td>[In a saucepan bring the milk and the cream ju...</td>\n",
       "      <td>[Milk/Cream, Ice Cream Machine, Dessert, Thank...</td>\n",
       "      <td>Missing</td>\n",
       "      <td>Nutmeg Ice Cream</td>\n",
       "      <td>[1 1/2 cups milk, 1 1/2 cups heavy cream, 3 la...</td>\n",
       "      <td>2004-08-20 04:00:00</td>\n",
       "      <td>great</td>\n",
       "    </tr>\n",
       "    <tr>\n",
       "      <th>18712</th>\n",
       "      <td>24.0</td>\n",
       "      <td>311.0</td>\n",
       "      <td>19.0</td>\n",
       "      <td>4.375</td>\n",
       "      <td>155.0</td>\n",
       "      <td>[Whisk first 5 ingredients in small bowl. Seas...</td>\n",
       "      <td>[Tomato, Low Carb, Backyard BBQ, Salmon, Cucum...</td>\n",
       "      <td>The salmon can be grilled two ways. The first ...</td>\n",
       "      <td>Grilled Salmon with Tomato, Cucumber and Caper...</td>\n",
       "      <td>[1/3 cup fresh lemon juice, 1/3 cup extra-virg...</td>\n",
       "      <td>2004-08-20 12:48:48</td>\n",
       "      <td>great</td>\n",
       "    </tr>\n",
       "    <tr>\n",
       "      <th>17041</th>\n",
       "      <td>23.0</td>\n",
       "      <td>519.0</td>\n",
       "      <td>21.0</td>\n",
       "      <td>3.125</td>\n",
       "      <td>14.0</td>\n",
       "      <td>[In a large saucepan combine the black beans w...</td>\n",
       "      <td>[Salad, Blender, Bean, Garlic, Side, Vegetaria...</td>\n",
       "      <td>Missing</td>\n",
       "      <td>Three-Bean Salad with Coriander Chili Dressing</td>\n",
       "      <td>[1 pound dried black beans, picked over, 1 pou...</td>\n",
       "      <td>2004-08-20 04:00:00</td>\n",
       "      <td>good</td>\n",
       "    </tr>\n",
       "  </tbody>\n",
       "</table>\n",
       "</div>"
      ],
      "text/plain": [
       "         fat  calories  protein  rating  sodium  \\\n",
       "13535    6.0      73.0      1.0   3.750    27.0   \n",
       "6456   464.0    4188.0      2.0   5.000   171.0   \n",
       "2494    12.0     207.0      4.0   4.375    91.0   \n",
       "18712   24.0     311.0     19.0   4.375   155.0   \n",
       "17041   23.0     519.0     21.0   3.125    14.0   \n",
       "\n",
       "                                              directions  \\\n",
       "13535  [Follow recipe for basic butter cookies to mak...   \n",
       "6456   [In a small bowl stir together mayonnaise, zes...   \n",
       "2494   [In a saucepan bring the milk and the cream ju...   \n",
       "18712  [Whisk first 5 ingredients in small bowl. Seas...   \n",
       "17041  [In a large saucepan combine the black beans w...   \n",
       "\n",
       "                                              categories  \\\n",
       "13535                 [Cookies, Bake, Pine Nut, Gourmet]   \n",
       "6456   [Side, Fry, Cocktail Party, Vegetarian, Quick ...   \n",
       "2494   [Milk/Cream, Ice Cream Machine, Dessert, Thank...   \n",
       "18712  [Tomato, Low Carb, Backyard BBQ, Salmon, Cucum...   \n",
       "17041  [Salad, Blender, Bean, Garlic, Side, Vegetaria...   \n",
       "\n",
       "                                                    desc  \\\n",
       "13535  Active time: 1 1/4 hr Start to finish: 3 hr (i...   \n",
       "6456                                             Missing   \n",
       "2494                                             Missing   \n",
       "18712  The salmon can be grilled two ways. The first ...   \n",
       "17041                                            Missing   \n",
       "\n",
       "                                                   title  \\\n",
       "13535                                  Pine Nut Tassies    \n",
       "6456     Jerusalem Artichoke Chips with Lemon Thyme Dip    \n",
       "2494                                   Nutmeg Ice Cream    \n",
       "18712  Grilled Salmon with Tomato, Cucumber and Caper...   \n",
       "17041    Three-Bean Salad with Coriander Chili Dressing    \n",
       "\n",
       "                                             ingredients                date  \\\n",
       "13535  [Ingredients for basic butter cookies, 2/3 cup... 2004-08-20 04:00:00   \n",
       "6456   [1/4 cup mayonnaise, 1 teaspoon finely grated ... 2004-08-20 04:00:00   \n",
       "2494   [1 1/2 cups milk, 1 1/2 cups heavy cream, 3 la... 2004-08-20 04:00:00   \n",
       "18712  [1/3 cup fresh lemon juice, 1/3 cup extra-virg... 2004-08-20 12:48:48   \n",
       "17041  [1 pound dried black beans, picked over, 1 pou... 2004-08-20 04:00:00   \n",
       "\n",
       "      bucket_rating  \n",
       "13535          good  \n",
       "6456          great  \n",
       "2494          great  \n",
       "18712         great  \n",
       "17041          good  "
      ]
     },
     "execution_count": 38,
     "metadata": {},
     "output_type": "execute_result"
    }
   ],
   "source": [
    "recipes.sample(5)"
   ]
  },
  {
   "cell_type": "markdown",
   "id": "8dcb111f-1fff-400b-8852-7f3ba6d77e2d",
   "metadata": {
    "tags": []
   },
   "source": [
    "### 7. Recipes categories analysis"
   ]
  },
  {
   "cell_type": "markdown",
   "id": "b3af2522-2aab-4afe-8351-a774358134be",
   "metadata": {
    "tags": []
   },
   "source": [
    "#### 7.1 To how many categories do each recipe belong?"
   ]
  },
  {
   "cell_type": "code",
   "execution_count": 39,
   "id": "edec1fd1-8f70-4097-8846-54bf3ef6b6e2",
   "metadata": {
    "tags": []
   },
   "outputs": [],
   "source": [
    "recipes['num_categories'] = recipes.categories.map(lambda x: len(x))"
   ]
  },
  {
   "cell_type": "code",
   "execution_count": 40,
   "id": "2e16e5a4-2304-4439-9248-81d7015ebc12",
   "metadata": {
    "tags": []
   },
   "outputs": [
    {
     "data": {
      "text/html": [
       "<div>\n",
       "<style scoped>\n",
       "    .dataframe tbody tr th:only-of-type {\n",
       "        vertical-align: middle;\n",
       "    }\n",
       "\n",
       "    .dataframe tbody tr th {\n",
       "        vertical-align: top;\n",
       "    }\n",
       "\n",
       "    .dataframe thead th {\n",
       "        text-align: right;\n",
       "    }\n",
       "</style>\n",
       "<table border=\"1\" class=\"dataframe\">\n",
       "  <thead>\n",
       "    <tr style=\"text-align: right;\">\n",
       "      <th></th>\n",
       "      <th>categories</th>\n",
       "      <th>num_categories</th>\n",
       "    </tr>\n",
       "  </thead>\n",
       "  <tbody>\n",
       "    <tr>\n",
       "      <th>7078</th>\n",
       "      <td>[Dessert, Bake, Prune, Apple, Cherry, Brandy, ...</td>\n",
       "      <td>17</td>\n",
       "    </tr>\n",
       "    <tr>\n",
       "      <th>17128</th>\n",
       "      <td>[Soup/Stew, Chicken, Egg, Vegetable, Spring, B...</td>\n",
       "      <td>6</td>\n",
       "    </tr>\n",
       "    <tr>\n",
       "      <th>10472</th>\n",
       "      <td>[Citrus, Fruit, Onion, Freeze/Chill, Vegetaria...</td>\n",
       "      <td>10</td>\n",
       "    </tr>\n",
       "    <tr>\n",
       "      <th>16466</th>\n",
       "      <td>[Side, Fourth of July, Picnic, Quick &amp; Easy, B...</td>\n",
       "      <td>18</td>\n",
       "    </tr>\n",
       "    <tr>\n",
       "      <th>4913</th>\n",
       "      <td>[Broil, Orange, Salmon, Red Wine, Gourmet]</td>\n",
       "      <td>5</td>\n",
       "    </tr>\n",
       "  </tbody>\n",
       "</table>\n",
       "</div>"
      ],
      "text/plain": [
       "                                              categories  num_categories\n",
       "7078   [Dessert, Bake, Prune, Apple, Cherry, Brandy, ...              17\n",
       "17128  [Soup/Stew, Chicken, Egg, Vegetable, Spring, B...               6\n",
       "10472  [Citrus, Fruit, Onion, Freeze/Chill, Vegetaria...              10\n",
       "16466  [Side, Fourth of July, Picnic, Quick & Easy, B...              18\n",
       "4913          [Broil, Orange, Salmon, Red Wine, Gourmet]               5"
      ]
     },
     "execution_count": 40,
     "metadata": {},
     "output_type": "execute_result"
    }
   ],
   "source": [
    "cats = recipes[['categories', 'num_categories']]\n",
    "cats.sample(5)"
   ]
  },
  {
   "cell_type": "code",
   "execution_count": 41,
   "id": "bc345a4e-31ce-48dd-b1a7-15e5285a5522",
   "metadata": {
    "tags": []
   },
   "outputs": [
    {
     "data": {
      "text/html": [
       "<div>\n",
       "<style scoped>\n",
       "    .dataframe tbody tr th:only-of-type {\n",
       "        vertical-align: middle;\n",
       "    }\n",
       "\n",
       "    .dataframe tbody tr th {\n",
       "        vertical-align: top;\n",
       "    }\n",
       "\n",
       "    .dataframe thead th {\n",
       "        text-align: right;\n",
       "    }\n",
       "</style>\n",
       "<table border=\"1\" class=\"dataframe\">\n",
       "  <thead>\n",
       "    <tr style=\"text-align: right;\">\n",
       "      <th></th>\n",
       "      <th>count</th>\n",
       "      <th>mean</th>\n",
       "      <th>std</th>\n",
       "      <th>min</th>\n",
       "      <th>25%</th>\n",
       "      <th>50%</th>\n",
       "      <th>75%</th>\n",
       "      <th>max</th>\n",
       "    </tr>\n",
       "  </thead>\n",
       "  <tbody>\n",
       "    <tr>\n",
       "      <th>num_categories</th>\n",
       "      <td>20111.0</td>\n",
       "      <td>12.161752</td>\n",
       "      <td>5.093774</td>\n",
       "      <td>0.0</td>\n",
       "      <td>8.0</td>\n",
       "      <td>11.0</td>\n",
       "      <td>16.0</td>\n",
       "      <td>37.0</td>\n",
       "    </tr>\n",
       "  </tbody>\n",
       "</table>\n",
       "</div>"
      ],
      "text/plain": [
       "                  count       mean       std  min  25%   50%   75%   max\n",
       "num_categories  20111.0  12.161752  5.093774  0.0  8.0  11.0  16.0  37.0"
      ]
     },
     "execution_count": 41,
     "metadata": {},
     "output_type": "execute_result"
    }
   ],
   "source": [
    "cats.describe().transpose()"
   ]
  },
  {
   "cell_type": "code",
   "execution_count": 42,
   "id": "ae65bc77-e0bd-4284-aeda-ad2d5830ed7c",
   "metadata": {
    "tags": []
   },
   "outputs": [
    {
     "data": {
      "text/html": [
       "<div>\n",
       "<style scoped>\n",
       "    .dataframe tbody tr th:only-of-type {\n",
       "        vertical-align: middle;\n",
       "    }\n",
       "\n",
       "    .dataframe tbody tr th {\n",
       "        vertical-align: top;\n",
       "    }\n",
       "\n",
       "    .dataframe thead th {\n",
       "        text-align: right;\n",
       "    }\n",
       "</style>\n",
       "<table border=\"1\" class=\"dataframe\">\n",
       "  <thead>\n",
       "    <tr style=\"text-align: right;\">\n",
       "      <th></th>\n",
       "      <th>categories</th>\n",
       "      <th>num_categories</th>\n",
       "    </tr>\n",
       "  </thead>\n",
       "  <tbody>\n",
       "    <tr>\n",
       "      <th>19362</th>\n",
       "      <td>[Smoothie, Blender, Berry, Citrus, Fruit, Brea...</td>\n",
       "      <td>37</td>\n",
       "    </tr>\n",
       "    <tr>\n",
       "      <th>2676</th>\n",
       "      <td>[Salad, Side, No-Cook, Fourth of July, Picnic,...</td>\n",
       "      <td>33</td>\n",
       "    </tr>\n",
       "    <tr>\n",
       "      <th>16780</th>\n",
       "      <td>[Wine, Alcoholic, Berry, Dessert, Christmas, C...</td>\n",
       "      <td>33</td>\n",
       "    </tr>\n",
       "    <tr>\n",
       "      <th>13198</th>\n",
       "      <td>[Salad, Cheese, Vegetable, Appetizer, Side, Ch...</td>\n",
       "      <td>33</td>\n",
       "    </tr>\n",
       "    <tr>\n",
       "      <th>6776</th>\n",
       "      <td>[Bourbon, Champagne, Fruit Juice, Punch, Alcoh...</td>\n",
       "      <td>32</td>\n",
       "    </tr>\n",
       "  </tbody>\n",
       "</table>\n",
       "</div>"
      ],
      "text/plain": [
       "                                              categories  num_categories\n",
       "19362  [Smoothie, Blender, Berry, Citrus, Fruit, Brea...              37\n",
       "2676   [Salad, Side, No-Cook, Fourth of July, Picnic,...              33\n",
       "16780  [Wine, Alcoholic, Berry, Dessert, Christmas, C...              33\n",
       "13198  [Salad, Cheese, Vegetable, Appetizer, Side, Ch...              33\n",
       "6776   [Bourbon, Champagne, Fruit Juice, Punch, Alcoh...              32"
      ]
     },
     "execution_count": 42,
     "metadata": {},
     "output_type": "execute_result"
    }
   ],
   "source": [
    "cats = cats.sort_values(by='num_categories', ascending=False)\n",
    "cats.head()"
   ]
  },
  {
   "cell_type": "code",
   "execution_count": 43,
   "id": "5a11d45e-fe5b-4cc2-984e-bbc03825c8cb",
   "metadata": {
    "tags": []
   },
   "outputs": [],
   "source": [
    "most_cats = cats.iloc[0,0]"
   ]
  },
  {
   "cell_type": "code",
   "execution_count": 44,
   "id": "1b1c211a-24af-4a23-a8c2-6c381e057af6",
   "metadata": {
    "tags": []
   },
   "outputs": [],
   "source": [
    "most_cats = sorted(list(map(lambda x : x.lower(), most_cats)))"
   ]
  },
  {
   "cell_type": "markdown",
   "id": "b61b9585-00fc-4da9-8d62-e61189974fc5",
   "metadata": {},
   "source": [
    "Even the recipe with the most amount of categories do not have repeated categories assigned. It is a good lead."
   ]
  },
  {
   "cell_type": "code",
   "execution_count": 45,
   "id": "0a1430a7-011c-4947-ba43-940e932f83a6",
   "metadata": {
    "tags": []
   },
   "outputs": [
    {
     "name": "stdout",
     "output_type": "stream",
     "text": [
      "['banana', 'berry', 'blender', 'bon appétit', 'breakfast', 'citrus', 'dessert', 'drink', 'easter', \"father's day\", 'fourth of july', 'fruit', 'grapefruit', 'healthy', 'kosher', 'low fat', 'lunch', \"mother's day\", \"new year's day\", 'no-cook', 'orange', 'peach', 'peanut free', 'pescatarian', 'quick & easy', 'shower', 'smoothie', 'soy free', 'spring', 'strawberry', 'summer', 'tree nut free', 'tropical fruit', \"valentine's day\", 'vegetarian', 'wheat/gluten-free', 'yogurt']\n"
     ]
    }
   ],
   "source": [
    "print(most_cats)"
   ]
  },
  {
   "cell_type": "markdown",
   "id": "c1170760-c70b-421c-91e4-c3db7f705dec",
   "metadata": {},
   "source": [
    "The number of categories per recipe tends to be an approxitation of a normal distribution."
   ]
  },
  {
   "cell_type": "markdown",
   "id": "8038018c-9322-47fe-b7ea-8532767715fd",
   "metadata": {},
   "source": [
    "75% of the recipes have up to approximately 16 categories tagged to them as described earlier and confirmed in the boxplot."
   ]
  },
  {
   "cell_type": "code",
   "execution_count": 46,
   "id": "4f4a306a-d73e-40cf-acb6-2187e8d96a97",
   "metadata": {
    "tags": []
   },
   "outputs": [
    {
     "data": {
      "image/png": "[encoded data removed]",
      "text/plain": [
       "<Figure size 1600x400 with 2 Axes>"
      ]
     },
     "metadata": {},
     "output_type": "display_data"
    }
   ],
   "source": [
    "fig, ax = plt.subplots(ncols=2, figsize=(16,4))\n",
    "sns.histplot(cats.num_categories, kde=True, ax=ax[0])\n",
    "sns.boxplot(cats.num_categories, ax=ax[1], width=.25)\n",
    "plt.show()"
   ]
  },
  {
   "cell_type": "markdown",
   "id": "de35ad9b-1d30-4d5b-be71-d10cd9a412a3",
   "metadata": {
    "tags": []
   },
   "source": [
    "#### 7.2 How is the relationship between the mean amount of categories a recipe has been tagged to and the ratings they have been assigned to?"
   ]
  },
  {
   "cell_type": "markdown",
   "id": "08df6eb2-7aea-4f10-98c0-ff0cabb6ac9c",
   "metadata": {},
   "source": [
    "The recipes that cover the more categories, receive better ratings. This could be indicating that it should be recommended to most people and evaluated mostly."
   ]
  },
  {
   "cell_type": "code",
   "execution_count": 47,
   "id": "ce902e55-b00d-4c88-bb14-dd20392dd010",
   "metadata": {
    "tags": []
   },
   "outputs": [
    {
     "data": {
      "image/png": "[encoded data removed]",
      "text/plain": [
       "<Figure size 640x480 with 1 Axes>"
      ]
     },
     "metadata": {},
     "output_type": "display_data"
    }
   ],
   "source": [
    "data = recipes[['rating', 'bucket_rating', 'num_categories']].sort_values(by='rating', ascending=True)\n",
    "sns.barplot(data=data, x='num_categories', y='bucket_rating', edgecolor='black', palette='magma')\n",
    "plt.show()"
   ]
  },
  {
   "cell_type": "markdown",
   "id": "88872fdd-26d7-4519-b55a-22dc11a648a7",
   "metadata": {},
   "source": [
    "#### 7.3 Time to explode..."
   ]
  },
  {
   "cell_type": "markdown",
   "id": "708f3247-7725-48dd-aa06-9525abcf1c2b",
   "metadata": {},
   "source": [
    "Exploding the dataset in the categories feature should create multiple rows corresponding to the recipes but with only one of the their categories."
   ]
  },
  {
   "cell_type": "code",
   "execution_count": 48,
   "id": "f7bebde0-d85f-4ef8-abea-169387ef3cd6",
   "metadata": {
    "tags": []
   },
   "outputs": [],
   "source": [
    "recipes_cats_exploded = recipes.explode('categories').rename(columns={'categories': 'categorie'})"
   ]
  },
  {
   "cell_type": "code",
   "execution_count": 49,
   "id": "00b7eb2d-5219-4dda-824c-c5f46836a6ce",
   "metadata": {
    "tags": []
   },
   "outputs": [
    {
     "data": {
      "text/plain": [
       "(244644, 13)"
      ]
     },
     "execution_count": 49,
     "metadata": {},
     "output_type": "execute_result"
    }
   ],
   "source": [
    "recipes_cats_exploded.shape"
   ]
  },
  {
   "cell_type": "markdown",
   "id": "983565c4-67be-4927-8095-7aa7f21e966f",
   "metadata": {},
   "source": [
    "The indexes from \"recipes_cats_exploded\" refer to the early 20111 recipes."
   ]
  },
  {
   "cell_type": "code",
   "execution_count": 50,
   "id": "289f580f-bdd6-44d3-9d7c-6ae135284fe8",
   "metadata": {
    "tags": []
   },
   "outputs": [],
   "source": [
    "recipes_cats_exploded.categorie = recipes_cats_exploded.categorie.str.lower()"
   ]
  },
  {
   "cell_type": "code",
   "execution_count": 51,
   "id": "a876511d-7cc3-4134-b5ca-83c1c63cb0f0",
   "metadata": {
    "tags": []
   },
   "outputs": [
    {
     "data": {
      "text/html": [
       "<div>\n",
       "<style scoped>\n",
       "    .dataframe tbody tr th:only-of-type {\n",
       "        vertical-align: middle;\n",
       "    }\n",
       "\n",
       "    .dataframe tbody tr th {\n",
       "        vertical-align: top;\n",
       "    }\n",
       "\n",
       "    .dataframe thead th {\n",
       "        text-align: right;\n",
       "    }\n",
       "</style>\n",
       "<table border=\"1\" class=\"dataframe\">\n",
       "  <thead>\n",
       "    <tr style=\"text-align: right;\">\n",
       "      <th></th>\n",
       "      <th>fat</th>\n",
       "      <th>calories</th>\n",
       "      <th>protein</th>\n",
       "      <th>rating</th>\n",
       "      <th>sodium</th>\n",
       "      <th>directions</th>\n",
       "      <th>categorie</th>\n",
       "      <th>desc</th>\n",
       "      <th>title</th>\n",
       "      <th>ingredients</th>\n",
       "      <th>date</th>\n",
       "      <th>bucket_rating</th>\n",
       "      <th>num_categories</th>\n",
       "    </tr>\n",
       "  </thead>\n",
       "  <tbody>\n",
       "    <tr>\n",
       "      <th>15547</th>\n",
       "      <td>30.0</td>\n",
       "      <td>753.0</td>\n",
       "      <td>25.0</td>\n",
       "      <td>3.750</td>\n",
       "      <td>530.0</td>\n",
       "      <td>[In a small bowl soak porcini in boiling water...</td>\n",
       "      <td>simmer</td>\n",
       "      <td>Missing</td>\n",
       "      <td>Red Wine and Mushroom Risotto</td>\n",
       "      <td>[1 ounce dried porcini mushrooms*, 2 cups boil...</td>\n",
       "      <td>2004-08-20 04:00:00</td>\n",
       "      <td>good</td>\n",
       "      <td>13</td>\n",
       "    </tr>\n",
       "    <tr>\n",
       "      <th>10683</th>\n",
       "      <td>9.0</td>\n",
       "      <td>239.0</td>\n",
       "      <td>10.0</td>\n",
       "      <td>3.125</td>\n",
       "      <td>667.0</td>\n",
       "      <td>[Preheat oven to 425°F. Toss chickpeas with oi...</td>\n",
       "      <td>vegan</td>\n",
       "      <td>These spicy and crunchy chickpeas make a crowd...</td>\n",
       "      <td>Crispy Curry-Roasted Chickpeas</td>\n",
       "      <td>[2 (15-ounce) cans chickpeas, drained, rinsed,...</td>\n",
       "      <td>2015-06-17 04:00:00</td>\n",
       "      <td>good</td>\n",
       "      <td>12</td>\n",
       "    </tr>\n",
       "    <tr>\n",
       "      <th>13964</th>\n",
       "      <td>14.0</td>\n",
       "      <td>228.0</td>\n",
       "      <td>3.0</td>\n",
       "      <td>5.000</td>\n",
       "      <td>67.0</td>\n",
       "      <td>[Combine 1 cup sugar, lemon juice, 4 eggs, egg...</td>\n",
       "      <td>egg</td>\n",
       "      <td>Use any leftovers as a spread for scones.</td>\n",
       "      <td>Lemon Cream</td>\n",
       "      <td>[1 cup plus 2 tablespoons sugar, 1/2 cup fresh...</td>\n",
       "      <td>2008-06-03 21:20:03</td>\n",
       "      <td>great</td>\n",
       "      <td>8</td>\n",
       "    </tr>\n",
       "    <tr>\n",
       "      <th>12653</th>\n",
       "      <td>8.0</td>\n",
       "      <td>285.0</td>\n",
       "      <td>6.0</td>\n",
       "      <td>5.000</td>\n",
       "      <td>124.0</td>\n",
       "      <td>[Put oven racks in upper and lower thirds of o...</td>\n",
       "      <td>egg</td>\n",
       "      <td>Guests will go wild for these little pies. The...</td>\n",
       "      <td>Kiwi-Pomegranate Angel Pies</td>\n",
       "      <td>[4 large egg whites (reserve yolks for pastry ...</td>\n",
       "      <td>2006-10-20 15:20:26</td>\n",
       "      <td>great</td>\n",
       "      <td>17</td>\n",
       "    </tr>\n",
       "    <tr>\n",
       "      <th>1865</th>\n",
       "      <td>6.0</td>\n",
       "      <td>409.2</td>\n",
       "      <td>7.2</td>\n",
       "      <td>5.000</td>\n",
       "      <td>555.4</td>\n",
       "      <td>[Place potatoes in a large pot and cover with ...</td>\n",
       "      <td>fall</td>\n",
       "      <td>The tang of sour cream gives the illusion that...</td>\n",
       "      <td>Sour Cream Mashed Potatoes</td>\n",
       "      <td>[3 pounds russet potatoes, peeled, cut into 2\"...</td>\n",
       "      <td>2013-10-08 04:00:00</td>\n",
       "      <td>great</td>\n",
       "      <td>20</td>\n",
       "    </tr>\n",
       "  </tbody>\n",
       "</table>\n",
       "</div>"
      ],
      "text/plain": [
       "        fat  calories  protein  rating  sodium  \\\n",
       "15547  30.0     753.0     25.0   3.750   530.0   \n",
       "10683   9.0     239.0     10.0   3.125   667.0   \n",
       "13964  14.0     228.0      3.0   5.000    67.0   \n",
       "12653   8.0     285.0      6.0   5.000   124.0   \n",
       "1865    6.0     409.2      7.2   5.000   555.4   \n",
       "\n",
       "                                              directions categorie  \\\n",
       "15547  [In a small bowl soak porcini in boiling water...    simmer   \n",
       "10683  [Preheat oven to 425°F. Toss chickpeas with oi...     vegan   \n",
       "13964  [Combine 1 cup sugar, lemon juice, 4 eggs, egg...       egg   \n",
       "12653  [Put oven racks in upper and lower thirds of o...       egg   \n",
       "1865   [Place potatoes in a large pot and cover with ...      fall   \n",
       "\n",
       "                                                    desc  \\\n",
       "15547                                            Missing   \n",
       "10683  These spicy and crunchy chickpeas make a crowd...   \n",
       "13964          Use any leftovers as a spread for scones.   \n",
       "12653  Guests will go wild for these little pies. The...   \n",
       "1865   The tang of sour cream gives the illusion that...   \n",
       "\n",
       "                                 title  \\\n",
       "15547   Red Wine and Mushroom Risotto    \n",
       "10683  Crispy Curry-Roasted Chickpeas    \n",
       "13964                     Lemon Cream    \n",
       "12653     Kiwi-Pomegranate Angel Pies    \n",
       "1865       Sour Cream Mashed Potatoes    \n",
       "\n",
       "                                             ingredients                date  \\\n",
       "15547  [1 ounce dried porcini mushrooms*, 2 cups boil... 2004-08-20 04:00:00   \n",
       "10683  [2 (15-ounce) cans chickpeas, drained, rinsed,... 2015-06-17 04:00:00   \n",
       "13964  [1 cup plus 2 tablespoons sugar, 1/2 cup fresh... 2008-06-03 21:20:03   \n",
       "12653  [4 large egg whites (reserve yolks for pastry ... 2006-10-20 15:20:26   \n",
       "1865   [3 pounds russet potatoes, peeled, cut into 2\"... 2013-10-08 04:00:00   \n",
       "\n",
       "      bucket_rating  num_categories  \n",
       "15547          good              13  \n",
       "10683          good              12  \n",
       "13964         great               8  \n",
       "12653         great              17  \n",
       "1865          great              20  "
      ]
     },
     "execution_count": 51,
     "metadata": {},
     "output_type": "execute_result"
    }
   ],
   "source": [
    "recipes_cats_exploded.sample(5)"
   ]
  },
  {
   "cell_type": "markdown",
   "id": "55db9cac-31ae-4dfd-9c02-442655e272cb",
   "metadata": {},
   "source": [
    "Top 10 most tagged categories among the recipes. "
   ]
  },
  {
   "cell_type": "code",
   "execution_count": 52,
   "id": "dbdec2b7-7350-4dd7-81b5-207622dd18e6",
   "metadata": {
    "tags": []
   },
   "outputs": [
    {
     "data": {
      "text/html": [
       "<div>\n",
       "<style scoped>\n",
       "    .dataframe tbody tr th:only-of-type {\n",
       "        vertical-align: middle;\n",
       "    }\n",
       "\n",
       "    .dataframe tbody tr th {\n",
       "        vertical-align: top;\n",
       "    }\n",
       "\n",
       "    .dataframe thead th {\n",
       "        text-align: right;\n",
       "    }\n",
       "</style>\n",
       "<table border=\"1\" class=\"dataframe\">\n",
       "  <thead>\n",
       "    <tr style=\"text-align: right;\">\n",
       "      <th></th>\n",
       "      <th>count</th>\n",
       "    </tr>\n",
       "  </thead>\n",
       "  <tbody>\n",
       "    <tr>\n",
       "      <th>bon appétit</th>\n",
       "      <td>9355</td>\n",
       "    </tr>\n",
       "    <tr>\n",
       "      <th>peanut free</th>\n",
       "      <td>8390</td>\n",
       "    </tr>\n",
       "    <tr>\n",
       "      <th>soy free</th>\n",
       "      <td>8088</td>\n",
       "    </tr>\n",
       "    <tr>\n",
       "      <th>tree nut free</th>\n",
       "      <td>7044</td>\n",
       "    </tr>\n",
       "    <tr>\n",
       "      <th>vegetarian</th>\n",
       "      <td>6846</td>\n",
       "    </tr>\n",
       "    <tr>\n",
       "      <th>gourmet</th>\n",
       "      <td>6648</td>\n",
       "    </tr>\n",
       "    <tr>\n",
       "      <th>kosher</th>\n",
       "      <td>6175</td>\n",
       "    </tr>\n",
       "    <tr>\n",
       "      <th>pescatarian</th>\n",
       "      <td>6042</td>\n",
       "    </tr>\n",
       "    <tr>\n",
       "      <th>quick &amp; easy</th>\n",
       "      <td>5372</td>\n",
       "    </tr>\n",
       "    <tr>\n",
       "      <th>wheat/gluten-free</th>\n",
       "      <td>4906</td>\n",
       "    </tr>\n",
       "  </tbody>\n",
       "</table>\n",
       "</div>"
      ],
      "text/plain": [
       "                   count\n",
       "bon appétit         9355\n",
       "peanut free         8390\n",
       "soy free            8088\n",
       "tree nut free       7044\n",
       "vegetarian          6846\n",
       "gourmet             6648\n",
       "kosher              6175\n",
       "pescatarian         6042\n",
       "quick & easy        5372\n",
       "wheat/gluten-free   4906"
      ]
     },
     "execution_count": 52,
     "metadata": {},
     "output_type": "execute_result"
    }
   ],
   "source": [
    "total_categories = pd.DataFrame(recipes_cats_exploded.categorie.value_counts()).rename(columns={'categorie': 'count'})\n",
    "total_categories.head(10)"
   ]
  },
  {
   "cell_type": "markdown",
   "id": "bc3d9959-94e4-4f03-a735-7805fc8a51d7",
   "metadata": {},
   "source": [
    "Total of 59 recipes tagged with no categorie at all."
   ]
  },
  {
   "cell_type": "code",
   "execution_count": 53,
   "id": "9a860758-bf17-49b3-b9b9-0d2b378719f3",
   "metadata": {
    "tags": []
   },
   "outputs": [
    {
     "data": {
      "text/plain": [
       "[]    59\n",
       "Name: categories, dtype: int64"
      ]
     },
     "execution_count": 53,
     "metadata": {},
     "output_type": "execute_result"
    }
   ],
   "source": [
    "recipes.categories.value_counts().head(1)"
   ]
  },
  {
   "cell_type": "markdown",
   "id": "1c5d1a5a-0e6a-481d-ac45-e1b99cc807c5",
   "metadata": {},
   "source": [
    "Total of mentioned categories matches with the exploded recipes dataset. Therefore, the categories are themselves unique for each recipe."
   ]
  },
  {
   "cell_type": "code",
   "execution_count": 54,
   "id": "aff8b390-f744-4879-a4e0-7e24bb1699e5",
   "metadata": {
    "tags": []
   },
   "outputs": [
    {
     "data": {
      "text/plain": [
       "True"
      ]
     },
     "execution_count": 54,
     "metadata": {},
     "output_type": "execute_result"
    }
   ],
   "source": [
    "recipes_cats_exploded.shape[0] - 59 == total_categories['count'].sum()"
   ]
  },
  {
   "cell_type": "markdown",
   "id": "4eda6f1d-0027-42ec-85b9-c5039bef0295",
   "metadata": {},
   "source": [
    "#### 7.4 How do the recipes marked with the most popular categorie behave in terms of fat and protein considering ratings?"
   ]
  },
  {
   "cell_type": "code",
   "execution_count": 55,
   "id": "4bfd2d27-cddd-468b-94de-42e3ab7f8cf8",
   "metadata": {
    "tags": []
   },
   "outputs": [],
   "source": [
    "bon_appetit_recipes = recipes_cats_exploded[recipes_cats_exploded.categorie == 'bon appétit']"
   ]
  },
  {
   "cell_type": "markdown",
   "id": "012180a4-fa00-46c6-88ac-1c88eb23f175",
   "metadata": {},
   "source": [
    "Unique 'bon appétit' recipes."
   ]
  },
  {
   "cell_type": "code",
   "execution_count": 56,
   "id": "746d38ae-75c5-4f14-8d7e-dbab1aa6ee75",
   "metadata": {
    "tags": []
   },
   "outputs": [
    {
     "data": {
      "text/plain": [
       "True"
      ]
     },
     "execution_count": 56,
     "metadata": {},
     "output_type": "execute_result"
    }
   ],
   "source": [
    "bon_appetit_recipes.index.nunique() == bon_appetit_recipes.shape[0]"
   ]
  },
  {
   "cell_type": "markdown",
   "id": "93f7bb8b-263d-4955-8c71-70d6851609f9",
   "metadata": {},
   "source": [
    "Grouping these recipes by `bucket_rating` and calculating the mean indeed gives us some insights..."
   ]
  },
  {
   "cell_type": "code",
   "execution_count": 57,
   "id": "2ca8cb13-20c1-4dbe-bb48-91c5c3f60395",
   "metadata": {
    "tags": []
   },
   "outputs": [],
   "source": [
    "data = bon_appetit_recipes.groupby('bucket_rating').mean(numeric_only=True)[['fat', 'protein']].reset_index()"
   ]
  },
  {
   "cell_type": "code",
   "execution_count": 58,
   "id": "26b88bcd-aaa5-4dbc-9930-df11a7526bb6",
   "metadata": {
    "tags": []
   },
   "outputs": [
    {
     "data": {
      "text/html": [
       "<div>\n",
       "<style scoped>\n",
       "    .dataframe tbody tr th:only-of-type {\n",
       "        vertical-align: middle;\n",
       "    }\n",
       "\n",
       "    .dataframe tbody tr th {\n",
       "        vertical-align: top;\n",
       "    }\n",
       "\n",
       "    .dataframe thead th {\n",
       "        text-align: right;\n",
       "    }\n",
       "</style>\n",
       "<table border=\"1\" class=\"dataframe\">\n",
       "  <thead>\n",
       "    <tr style=\"text-align: right;\">\n",
       "      <th></th>\n",
       "      <th>bucket_rating</th>\n",
       "      <th>fat</th>\n",
       "      <th>protein</th>\n",
       "    </tr>\n",
       "  </thead>\n",
       "  <tbody>\n",
       "    <tr>\n",
       "      <th>0</th>\n",
       "      <td>really bad</td>\n",
       "      <td>15.224460</td>\n",
       "      <td>8.474101</td>\n",
       "    </tr>\n",
       "    <tr>\n",
       "      <th>1</th>\n",
       "      <td>bad</td>\n",
       "      <td>21.905618</td>\n",
       "      <td>10.743820</td>\n",
       "    </tr>\n",
       "    <tr>\n",
       "      <th>2</th>\n",
       "      <td>normal</td>\n",
       "      <td>21.709278</td>\n",
       "      <td>12.481443</td>\n",
       "    </tr>\n",
       "    <tr>\n",
       "      <th>3</th>\n",
       "      <td>good</td>\n",
       "      <td>155.071410</td>\n",
       "      <td>57.714428</td>\n",
       "    </tr>\n",
       "    <tr>\n",
       "      <th>4</th>\n",
       "      <td>great</td>\n",
       "      <td>163.600291</td>\n",
       "      <td>36.321733</td>\n",
       "    </tr>\n",
       "  </tbody>\n",
       "</table>\n",
       "</div>"
      ],
      "text/plain": [
       "  bucket_rating         fat    protein\n",
       "0    really bad   15.224460   8.474101\n",
       "1           bad   21.905618  10.743820\n",
       "2        normal   21.709278  12.481443\n",
       "3          good  155.071410  57.714428\n",
       "4         great  163.600291  36.321733"
      ]
     },
     "execution_count": 58,
     "metadata": {},
     "output_type": "execute_result"
    }
   ],
   "source": [
    "data"
   ]
  },
  {
   "cell_type": "markdown",
   "id": "ad078d82-a1d4-49a5-b51e-7b7e34ec08c3",
   "metadata": {},
   "source": [
    "The recipes tagged as 'bon appétit' suffer influence on their percentage of `fat`. The more the fat, the better the ratings. Proteins do not influence that hard for defining either good or great ratings, but recipes with greater amount of protein tend to be better than normal in ratings."
   ]
  },
  {
   "cell_type": "code",
   "execution_count": 59,
   "id": "738bd700-1c79-470d-8e72-771a7dbf0e1f",
   "metadata": {
    "tags": []
   },
   "outputs": [
    {
     "data": {
      "image/png": "[encoded data removed]",
      "text/plain": [
       "<Figure size 640x480 with 1 Axes>"
      ]
     },
     "metadata": {},
     "output_type": "display_data"
    }
   ],
   "source": [
    "data.plot.bar(x='bucket_rating', edgecolor='black')\n",
    "plt.show()"
   ]
  },
  {
   "cell_type": "markdown",
   "id": "eedce11a-bc9b-466e-917d-51d2bff01581",
   "metadata": {},
   "source": [
    "#### 7.5 Through time, how did the popularity of the top10 categories evolved?"
   ]
  },
  {
   "cell_type": "code",
   "execution_count": 60,
   "id": "4fd70415-5ce3-44aa-9989-9a45b5070e83",
   "metadata": {
    "tags": []
   },
   "outputs": [],
   "source": [
    "top10_categories = total_categories.head(10)"
   ]
  },
  {
   "cell_type": "code",
   "execution_count": 61,
   "id": "eebe137a-d809-4307-9995-8898a22832cc",
   "metadata": {
    "tags": []
   },
   "outputs": [],
   "source": [
    "top10_categories = top10_categories.index.tolist()"
   ]
  },
  {
   "cell_type": "code",
   "execution_count": 62,
   "id": "86eb45d3-583f-4d0c-be91-c6c527021eea",
   "metadata": {
    "tags": []
   },
   "outputs": [
    {
     "name": "stdout",
     "output_type": "stream",
     "text": [
      "['bon appétit', 'peanut free', 'soy free', 'tree nut free', 'vegetarian', 'gourmet', 'kosher', 'pescatarian', 'quick & easy', 'wheat/gluten-free']\n"
     ]
    }
   ],
   "source": [
    "print(top10_categories)"
   ]
  },
  {
   "cell_type": "code",
   "execution_count": 63,
   "id": "888c6d4e-e5ff-4042-8c76-a787e57949ed",
   "metadata": {
    "tags": []
   },
   "outputs": [],
   "source": [
    "top10_cats_df = recipes_cats_exploded[['date', 'categorie']]"
   ]
  },
  {
   "cell_type": "code",
   "execution_count": 64,
   "id": "d573d49e-b6f6-43e3-b4db-c68f0446fc6d",
   "metadata": {
    "tags": []
   },
   "outputs": [],
   "source": [
    "top10_cats_df = top10_cats_df[top10_cats_df.categorie.isin(top10_categories)]"
   ]
  },
  {
   "cell_type": "code",
   "execution_count": 65,
   "id": "d9e68b88-b666-4fcc-8732-39e0f2d660d7",
   "metadata": {
    "tags": []
   },
   "outputs": [
    {
     "data": {
      "text/html": [
       "<div>\n",
       "<style scoped>\n",
       "    .dataframe tbody tr th:only-of-type {\n",
       "        vertical-align: middle;\n",
       "    }\n",
       "\n",
       "    .dataframe tbody tr th {\n",
       "        vertical-align: top;\n",
       "    }\n",
       "\n",
       "    .dataframe thead th {\n",
       "        text-align: right;\n",
       "    }\n",
       "</style>\n",
       "<table border=\"1\" class=\"dataframe\">\n",
       "  <thead>\n",
       "    <tr style=\"text-align: right;\">\n",
       "      <th></th>\n",
       "      <th>date</th>\n",
       "      <th>categorie</th>\n",
       "    </tr>\n",
       "  </thead>\n",
       "  <tbody>\n",
       "    <tr>\n",
       "      <th>3604</th>\n",
       "      <td>2004-08-20 04:00:00</td>\n",
       "      <td>gourmet</td>\n",
       "    </tr>\n",
       "    <tr>\n",
       "      <th>29</th>\n",
       "      <td>2004-08-20 04:00:00</td>\n",
       "      <td>soy free</td>\n",
       "    </tr>\n",
       "    <tr>\n",
       "      <th>4036</th>\n",
       "      <td>2013-04-23 04:00:00</td>\n",
       "      <td>pescatarian</td>\n",
       "    </tr>\n",
       "    <tr>\n",
       "      <th>15490</th>\n",
       "      <td>2004-08-20 04:00:00</td>\n",
       "      <td>bon appétit</td>\n",
       "    </tr>\n",
       "    <tr>\n",
       "      <th>16950</th>\n",
       "      <td>2004-08-20 04:00:00</td>\n",
       "      <td>kosher</td>\n",
       "    </tr>\n",
       "  </tbody>\n",
       "</table>\n",
       "</div>"
      ],
      "text/plain": [
       "                     date    categorie\n",
       "3604  2004-08-20 04:00:00      gourmet\n",
       "29    2004-08-20 04:00:00     soy free\n",
       "4036  2013-04-23 04:00:00  pescatarian\n",
       "15490 2004-08-20 04:00:00  bon appétit\n",
       "16950 2004-08-20 04:00:00       kosher"
      ]
     },
     "execution_count": 65,
     "metadata": {},
     "output_type": "execute_result"
    }
   ],
   "source": [
    "top10_cats_df.sample(5)"
   ]
  },
  {
   "cell_type": "code",
   "execution_count": 66,
   "id": "7aa1b3fe-902d-417a-b7dd-233d43cb552a",
   "metadata": {
    "tags": []
   },
   "outputs": [],
   "source": [
    "def plot_popularity_evolution(data, ax, cat):\n",
    "    data = pd.DataFrame(data.date.value_counts().reset_index().values, columns=['date', cat])\n",
    "    data = data.sort_values(by='date', ascending=True)\n",
    "    data[cat] = data[cat].cumsum()\n",
    "    data.plot(kind='line', x='date', y=cat, ax=ax)"
   ]
  },
  {
   "cell_type": "markdown",
   "id": "38e6ff9f-0852-46f0-93ad-02b965c37b74",
   "metadata": {},
   "source": [
    "The register of recipes has only been significantly active since 2004. Thus the discontinuity is visible in this period of time in the graphic.\n",
    "\n",
    "Gourmet was once the second most popular category but lost positions to 4 emergent ones. Apart from `quick & easy` (losing popularity in the competition with `kosher` and `pescatarian`) and `tree nut free` (winning competition versus `vegetarian` roughly in 2010) the rest of the top 10 most popular categories show very consistent evolution throughout the years."
   ]
  },
  {
   "cell_type": "code",
   "execution_count": 67,
   "id": "8e26b17d-2e2f-4fbe-920d-00e6475fcd6c",
   "metadata": {
    "tags": []
   },
   "outputs": [
    {
     "data": {
      "image/png": "[encoded data removed]",
      "text/plain": [
       "<Figure size 1000x600 with 1 Axes>"
      ]
     },
     "metadata": {},
     "output_type": "display_data"
    }
   ],
   "source": [
    "fig, ax = plt.subplots(figsize=(10,6))\n",
    "\n",
    "for cat in top10_categories:\n",
    "    plot_popularity_evolution(top10_cats_df[top10_cats_df.categorie == cat], ax, cat)"
   ]
  },
  {
   "cell_type": "markdown",
   "id": "b4369ced-fc04-4d2e-a75d-d8c8d3763490",
   "metadata": {
    "tags": []
   },
   "source": [
    "#### 7.6 Among the top10 most popular categories, with whom do they get along well? "
   ]
  },
  {
   "cell_type": "markdown",
   "id": "ee902715-d5e1-4236-9c05-1c166f805966",
   "metadata": {},
   "source": [
    "This dataframe marks as `True` of `False` the presence of each categorie in each of the original recipes."
   ]
  },
  {
   "cell_type": "code",
   "execution_count": 68,
   "id": "cdcee1b1-0da6-4720-8c61-795e6900e5f1",
   "metadata": {
    "tags": []
   },
   "outputs": [
    {
     "data": {
      "text/html": [
       "<div>\n",
       "<style scoped>\n",
       "    .dataframe tbody tr th:only-of-type {\n",
       "        vertical-align: middle;\n",
       "    }\n",
       "\n",
       "    .dataframe tbody tr th {\n",
       "        vertical-align: top;\n",
       "    }\n",
       "\n",
       "    .dataframe thead th {\n",
       "        text-align: right;\n",
       "    }\n",
       "</style>\n",
       "<table border=\"1\" class=\"dataframe\">\n",
       "  <thead>\n",
       "    <tr style=\"text-align: right;\">\n",
       "      <th>categorie</th>\n",
       "      <th>bon appétit</th>\n",
       "      <th>gourmet</th>\n",
       "      <th>kosher</th>\n",
       "      <th>peanut free</th>\n",
       "      <th>pescatarian</th>\n",
       "      <th>quick &amp; easy</th>\n",
       "      <th>soy free</th>\n",
       "      <th>tree nut free</th>\n",
       "      <th>vegetarian</th>\n",
       "      <th>wheat/gluten-free</th>\n",
       "    </tr>\n",
       "  </thead>\n",
       "  <tbody>\n",
       "    <tr>\n",
       "      <th>1</th>\n",
       "      <td>1</td>\n",
       "      <td>0</td>\n",
       "      <td>0</td>\n",
       "      <td>0</td>\n",
       "      <td>0</td>\n",
       "      <td>0</td>\n",
       "      <td>0</td>\n",
       "      <td>0</td>\n",
       "      <td>0</td>\n",
       "      <td>0</td>\n",
       "    </tr>\n",
       "    <tr>\n",
       "      <th>2</th>\n",
       "      <td>0</td>\n",
       "      <td>1</td>\n",
       "      <td>0</td>\n",
       "      <td>0</td>\n",
       "      <td>0</td>\n",
       "      <td>0</td>\n",
       "      <td>0</td>\n",
       "      <td>0</td>\n",
       "      <td>0</td>\n",
       "      <td>0</td>\n",
       "    </tr>\n",
       "    <tr>\n",
       "      <th>3</th>\n",
       "      <td>1</td>\n",
       "      <td>0</td>\n",
       "      <td>1</td>\n",
       "      <td>1</td>\n",
       "      <td>1</td>\n",
       "      <td>0</td>\n",
       "      <td>1</td>\n",
       "      <td>1</td>\n",
       "      <td>0</td>\n",
       "      <td>0</td>\n",
       "    </tr>\n",
       "    <tr>\n",
       "      <th>4</th>\n",
       "      <td>1</td>\n",
       "      <td>0</td>\n",
       "      <td>0</td>\n",
       "      <td>0</td>\n",
       "      <td>0</td>\n",
       "      <td>1</td>\n",
       "      <td>0</td>\n",
       "      <td>0</td>\n",
       "      <td>1</td>\n",
       "      <td>0</td>\n",
       "    </tr>\n",
       "    <tr>\n",
       "      <th>5</th>\n",
       "      <td>1</td>\n",
       "      <td>0</td>\n",
       "      <td>0</td>\n",
       "      <td>0</td>\n",
       "      <td>0</td>\n",
       "      <td>1</td>\n",
       "      <td>0</td>\n",
       "      <td>0</td>\n",
       "      <td>0</td>\n",
       "      <td>0</td>\n",
       "    </tr>\n",
       "    <tr>\n",
       "      <th>...</th>\n",
       "      <td>...</td>\n",
       "      <td>...</td>\n",
       "      <td>...</td>\n",
       "      <td>...</td>\n",
       "      <td>...</td>\n",
       "      <td>...</td>\n",
       "      <td>...</td>\n",
       "      <td>...</td>\n",
       "      <td>...</td>\n",
       "      <td>...</td>\n",
       "    </tr>\n",
       "    <tr>\n",
       "      <th>20106</th>\n",
       "      <td>0</td>\n",
       "      <td>1</td>\n",
       "      <td>0</td>\n",
       "      <td>0</td>\n",
       "      <td>0</td>\n",
       "      <td>0</td>\n",
       "      <td>0</td>\n",
       "      <td>0</td>\n",
       "      <td>0</td>\n",
       "      <td>0</td>\n",
       "    </tr>\n",
       "    <tr>\n",
       "      <th>20107</th>\n",
       "      <td>1</td>\n",
       "      <td>0</td>\n",
       "      <td>1</td>\n",
       "      <td>1</td>\n",
       "      <td>1</td>\n",
       "      <td>0</td>\n",
       "      <td>1</td>\n",
       "      <td>1</td>\n",
       "      <td>0</td>\n",
       "      <td>1</td>\n",
       "    </tr>\n",
       "    <tr>\n",
       "      <th>20108</th>\n",
       "      <td>0</td>\n",
       "      <td>1</td>\n",
       "      <td>0</td>\n",
       "      <td>1</td>\n",
       "      <td>0</td>\n",
       "      <td>0</td>\n",
       "      <td>1</td>\n",
       "      <td>1</td>\n",
       "      <td>0</td>\n",
       "      <td>0</td>\n",
       "    </tr>\n",
       "    <tr>\n",
       "      <th>20109</th>\n",
       "      <td>1</td>\n",
       "      <td>0</td>\n",
       "      <td>0</td>\n",
       "      <td>0</td>\n",
       "      <td>0</td>\n",
       "      <td>1</td>\n",
       "      <td>0</td>\n",
       "      <td>0</td>\n",
       "      <td>0</td>\n",
       "      <td>0</td>\n",
       "    </tr>\n",
       "    <tr>\n",
       "      <th>20110</th>\n",
       "      <td>1</td>\n",
       "      <td>0</td>\n",
       "      <td>0</td>\n",
       "      <td>0</td>\n",
       "      <td>0</td>\n",
       "      <td>0</td>\n",
       "      <td>0</td>\n",
       "      <td>0</td>\n",
       "      <td>0</td>\n",
       "      <td>0</td>\n",
       "    </tr>\n",
       "  </tbody>\n",
       "</table>\n",
       "<p>18369 rows × 10 columns</p>\n",
       "</div>"
      ],
      "text/plain": [
       "categorie  bon appétit  gourmet  kosher  peanut free  pescatarian  \\\n",
       "1                    1        0       0            0            0   \n",
       "2                    0        1       0            0            0   \n",
       "3                    1        0       1            1            1   \n",
       "4                    1        0       0            0            0   \n",
       "5                    1        0       0            0            0   \n",
       "...                ...      ...     ...          ...          ...   \n",
       "20106                0        1       0            0            0   \n",
       "20107                1        0       1            1            1   \n",
       "20108                0        1       0            1            0   \n",
       "20109                1        0       0            0            0   \n",
       "20110                1        0       0            0            0   \n",
       "\n",
       "categorie  quick & easy  soy free  tree nut free  vegetarian  \\\n",
       "1                     0         0              0           0   \n",
       "2                     0         0              0           0   \n",
       "3                     0         1              1           0   \n",
       "4                     1         0              0           1   \n",
       "5                     1         0              0           0   \n",
       "...                 ...       ...            ...         ...   \n",
       "20106                 0         0              0           0   \n",
       "20107                 0         1              1           0   \n",
       "20108                 0         1              1           0   \n",
       "20109                 1         0              0           0   \n",
       "20110                 0         0              0           0   \n",
       "\n",
       "categorie  wheat/gluten-free  \n",
       "1                          0  \n",
       "2                          0  \n",
       "3                          0  \n",
       "4                          0  \n",
       "5                          0  \n",
       "...                      ...  \n",
       "20106                      0  \n",
       "20107                      1  \n",
       "20108                      0  \n",
       "20109                      0  \n",
       "20110                      0  \n",
       "\n",
       "[18369 rows x 10 columns]"
      ]
     },
     "execution_count": 68,
     "metadata": {},
     "output_type": "execute_result"
    }
   ],
   "source": [
    "frequency_df = top10_cats_df.groupby([top10_cats_df.index, 'categorie']).size().unstack(fill_value=0)\n",
    "frequency_df "
   ]
  },
  {
   "cell_type": "markdown",
   "id": "8212f178-47ec-4d71-9c78-6484afa74c58",
   "metadata": {},
   "source": [
    "Multiplying this matrix with its transpose should give us a new matrix `10x10` of occurences of each categorie alongside the others."
   ]
  },
  {
   "cell_type": "code",
   "execution_count": 69,
   "id": "efcfa044-5079-4d07-9f9e-3f353526914a",
   "metadata": {
    "tags": []
   },
   "outputs": [],
   "source": [
    "dot_freq_mat = np.dot(frequency_df.T, frequency_df)"
   ]
  },
  {
   "cell_type": "code",
   "execution_count": 70,
   "id": "d72d0845-80c6-4dbf-81e8-12f4dfcb6e53",
   "metadata": {
    "tags": []
   },
   "outputs": [],
   "source": [
    "dot_freq_mat = pd.DataFrame(dot_freq_mat, index=top10_categories, columns=top10_categories)"
   ]
  },
  {
   "cell_type": "markdown",
   "id": "1ec2c005-1471-4e77-9d3e-e03bdc75f27e",
   "metadata": {},
   "source": [
    "This is the matrix represented as heatmap. We can see that recipes have been tagged as either `kosher` and `pescatarian` very frequently as we know kosher food frequently is made of fishes such as tuna and salmon.\n",
    "\n",
    "This heatmap also suggests that soy free recipes combine well with tree nut free ones as they have been tagged together multiple times as well.\n",
    "\n",
    "On the other hand, there is no highlighted partner for `gourmet` recipes, indicating that these recipes cover a wide variety of ingredients and styling for cooking."
   ]
  },
  {
   "cell_type": "code",
   "execution_count": 71,
   "id": "c34b7a02-998a-49a4-98a0-fd5863cfd023",
   "metadata": {
    "tags": []
   },
   "outputs": [
    {
     "data": {
      "image/png": "[encoded data removed]",
      "text/plain": [
       "<Figure size 900x500 with 2 Axes>"
      ]
     },
     "metadata": {},
     "output_type": "display_data"
    }
   ],
   "source": [
    "fig, ax = plt.subplots(figsize = (9,5))\n",
    "sns.heatmap(dot_freq_mat, cmap=\"Blues\")\n",
    "plt.xticks(rotation=50)\n",
    "plt.show()"
   ]
  },
  {
   "cell_type": "markdown",
   "id": "20abf71b-bc50-4dd2-aa23-89adb73f82fd",
   "metadata": {
    "tags": []
   },
   "source": [
    "### 8. Can directions tell us anything?"
   ]
  },
  {
   "cell_type": "markdown",
   "id": "44504391-a8e1-409d-90ae-7df983ca13e4",
   "metadata": {},
   "source": [
    "Calculating the amount of directions for each recipe."
   ]
  },
  {
   "cell_type": "code",
   "execution_count": 72,
   "id": "42ca8309-47b4-4d54-85e6-81cda3e946e5",
   "metadata": {
    "tags": []
   },
   "outputs": [],
   "source": [
    "recipes_cats_exploded['num_directions'] = recipes_cats_exploded.directions.map(lambda x: len(x))\n",
    "recipes['num_directions'] = recipes.directions.map(lambda x: len(x))"
   ]
  },
  {
   "cell_type": "code",
   "execution_count": 73,
   "id": "1692c96b-556a-4e6c-902f-c3429fa9a956",
   "metadata": {
    "tags": []
   },
   "outputs": [
    {
     "data": {
      "text/plain": [
       "count    20111.000000\n",
       "mean         3.453732\n",
       "std          2.339111\n",
       "min          0.000000\n",
       "25%          2.000000\n",
       "50%          3.000000\n",
       "75%          5.000000\n",
       "max         24.000000\n",
       "Name: num_directions, dtype: float64"
      ]
     },
     "execution_count": 73,
     "metadata": {},
     "output_type": "execute_result"
    }
   ],
   "source": [
    "recipes.num_directions.describe()"
   ]
  },
  {
   "cell_type": "markdown",
   "id": "73e56357-b6ae-4379-bd0e-d13b96a73d09",
   "metadata": {},
   "source": [
    "The histogram and boxplot tell us that approximately 75% of the recipes have something between 1 and 5 steps in order to be finished"
   ]
  },
  {
   "cell_type": "code",
   "execution_count": 74,
   "id": "145e4e91-119a-4c3b-928f-9f38626b539d",
   "metadata": {
    "tags": []
   },
   "outputs": [
    {
     "data": {
      "image/png": "[encoded data removed]",
      "text/plain": [
       "<Figure size 1200x600 with 2 Axes>"
      ]
     },
     "metadata": {},
     "output_type": "display_data"
    }
   ],
   "source": [
    "fig, ax = plt.subplots(ncols=2, figsize=(12,6))\n",
    "sns.histplot(recipes.num_directions, ax=ax[0])\n",
    "sns.boxplot(recipes.num_directions, ax=ax[1], width=.25)\n",
    "plt.show()"
   ]
  },
  {
   "cell_type": "markdown",
   "id": "e36f616b-e66f-42c6-aaca-41650e1c862e",
   "metadata": {},
   "source": [
    "Direction example..."
   ]
  },
  {
   "cell_type": "code",
   "execution_count": 75,
   "id": "f1f902e0-e324-4809-ac8c-a370b4223db6",
   "metadata": {
    "tags": []
   },
   "outputs": [
    {
     "data": {
      "text/plain": [
       "['Preheat oven to 425°F. Whisk baking powder, salt, and 2 cups flour in a large bowl to combine. Using a pastry cutter or your fingers, work chilled butter into dry ingredients until mixture resembles coarse meal. Using a wooden spoon or fork, mix in sour cream and milk until a shaggy dough forms.',\n",
       " 'Turn out dough onto a lightly floured surface and knead a few times just to bring together. Roll out until 1/4\" thick, then fold in half. Roll dough out again until 1/4\" thick, then fold in half again. Repeat once more, rolling out to a 3/4\"-thick round.',\n",
       " 'Punch out biscuits as close together as possible with cutter. Pat scraps together and punch out more biscuits; repeat until you can\\'t cut out any more (you should have 12 total). Transfer biscuits to a parchment-lined baking sheet, spacing 1\" apart, and bake, rotating sheet once, until golden brown and baked through, 10–12 minutes. Brush biscuits with melted butter.',\n",
       " 'Dough can be made 1 day ahead. Cover and chill, or freeze up to 1 week.',\n",
       " 'While biscuits are baking, cook sausage in a medium saucepan over medium heat, stirring occasionally, until cooked through and starting to brown, 5–8 minutes. Transfer to a small bowl with a slotted spoon.',\n",
       " \"Add butter to drippings in pan and melt over medium. Whisk flour into butter mixture and cook, whisking constantly, until roux is very smooth and starting to bubble, about 2 minutes (don't let it color; this is a white gravy).\",\n",
       " 'Gradually add milk, whisking until incorporated. Reduce heat to mediumlow and cook gravy, still whisking, until thickened, 8–10 minutes. Stir in sausage; season with salt and pepper.',\n",
       " 'Serve hot biscuits with gravy alongside for spooning over top.']"
      ]
     },
     "execution_count": 75,
     "metadata": {},
     "output_type": "execute_result"
    }
   ],
   "source": [
    "recipes.sort_values(by='num_directions', ascending=False).iloc[800,5]"
   ]
  },
  {
   "cell_type": "markdown",
   "id": "75083541-dcb1-48c1-b78e-40acf9e4d6fb",
   "metadata": {},
   "source": [
    "#### 8.1 Considering that directions from the recipes define how extense is the recipe to be concretized, that should influence how well these recipes are rated."
   ]
  },
  {
   "cell_type": "markdown",
   "id": "6f0119b6-cf8c-4d29-bbf5-3d14bbd03b38",
   "metadata": {},
   "source": [
    "The data tells us that great rated recipes tend to have a greater number of directions in order to fulfil it. The barplot below states that the greater the rating the greater is the mean number of guidance to the recipe reprodution. Perhaps, it gets easier to understand the step by step of the recipe and perform it, so the users rate these ones well."
   ]
  },
  {
   "cell_type": "code",
   "execution_count": 76,
   "id": "129362ba-c737-48f0-9125-f9ad9de61b83",
   "metadata": {
    "tags": []
   },
   "outputs": [
    {
     "data": {
      "image/png": "[encoded data removed]",
      "text/plain": [
       "<Figure size 640x480 with 1 Axes>"
      ]
     },
     "metadata": {},
     "output_type": "display_data"
    }
   ],
   "source": [
    "sns.barplot(data=recipes, x='bucket_rating', y='num_directions', edgecolor='black')\n",
    "plt.show()"
   ]
  },
  {
   "cell_type": "markdown",
   "id": "437e2902-3615-48a0-836a-7226d405da52",
   "metadata": {},
   "source": [
    "### 9. What are the recipe categories with the highest mean amount of protein but with the lowest amount of fat?"
   ]
  },
  {
   "cell_type": "code",
   "execution_count": 77,
   "id": "6b0a545e-940d-48b5-bd3e-f7bd5fb51793",
   "metadata": {
    "tags": []
   },
   "outputs": [
    {
     "data": {
      "text/html": [
       "<div>\n",
       "<style scoped>\n",
       "    .dataframe tbody tr th:only-of-type {\n",
       "        vertical-align: middle;\n",
       "    }\n",
       "\n",
       "    .dataframe tbody tr th {\n",
       "        vertical-align: top;\n",
       "    }\n",
       "\n",
       "    .dataframe thead th {\n",
       "        text-align: right;\n",
       "    }\n",
       "</style>\n",
       "<table border=\"1\" class=\"dataframe\">\n",
       "  <thead>\n",
       "    <tr style=\"text-align: right;\">\n",
       "      <th></th>\n",
       "      <th>fat</th>\n",
       "      <th>calories</th>\n",
       "      <th>protein</th>\n",
       "      <th>rating</th>\n",
       "      <th>sodium</th>\n",
       "      <th>num_categories</th>\n",
       "      <th>num_directions</th>\n",
       "    </tr>\n",
       "    <tr>\n",
       "      <th>categorie</th>\n",
       "      <th></th>\n",
       "      <th></th>\n",
       "      <th></th>\n",
       "      <th></th>\n",
       "      <th></th>\n",
       "      <th></th>\n",
       "      <th></th>\n",
       "    </tr>\n",
       "  </thead>\n",
       "  <tbody>\n",
       "    <tr>\n",
       "      <th>leftovers</th>\n",
       "      <td>21.314286</td>\n",
       "      <td>494.685714</td>\n",
       "      <td>28.285714</td>\n",
       "      <td>0.000000</td>\n",
       "      <td>628.771429</td>\n",
       "      <td>9.285714</td>\n",
       "      <td>3.857143</td>\n",
       "    </tr>\n",
       "    <tr>\n",
       "      <th>healthy</th>\n",
       "      <td>21.324032</td>\n",
       "      <td>394.673671</td>\n",
       "      <td>12.916886</td>\n",
       "      <td>3.805296</td>\n",
       "      <td>536.251382</td>\n",
       "      <td>15.513399</td>\n",
       "      <td>3.034879</td>\n",
       "    </tr>\n",
       "    <tr>\n",
       "      <th>wedding</th>\n",
       "      <td>22.857143</td>\n",
       "      <td>482.408929</td>\n",
       "      <td>7.657143</td>\n",
       "      <td>3.828125</td>\n",
       "      <td>304.503571</td>\n",
       "      <td>15.348214</td>\n",
       "      <td>5.053571</td>\n",
       "    </tr>\n",
       "    <tr>\n",
       "      <th>tomatillo</th>\n",
       "      <td>19.470732</td>\n",
       "      <td>316.209756</td>\n",
       "      <td>13.012195</td>\n",
       "      <td>4.001524</td>\n",
       "      <td>413.548780</td>\n",
       "      <td>13.073171</td>\n",
       "      <td>3.817073</td>\n",
       "    </tr>\n",
       "    <tr>\n",
       "      <th>westwood</th>\n",
       "      <td>12.000000</td>\n",
       "      <td>934.000000</td>\n",
       "      <td>40.000000</td>\n",
       "      <td>4.375000</td>\n",
       "      <td>1667.000000</td>\n",
       "      <td>18.000000</td>\n",
       "      <td>1.000000</td>\n",
       "    </tr>\n",
       "  </tbody>\n",
       "</table>\n",
       "</div>"
      ],
      "text/plain": [
       "                 fat    calories    protein    rating       sodium  \\\n",
       "categorie                                                            \n",
       "leftovers  21.314286  494.685714  28.285714  0.000000   628.771429   \n",
       "healthy    21.324032  394.673671  12.916886  3.805296   536.251382   \n",
       "wedding    22.857143  482.408929   7.657143  3.828125   304.503571   \n",
       "tomatillo  19.470732  316.209756  13.012195  4.001524   413.548780   \n",
       "westwood   12.000000  934.000000  40.000000  4.375000  1667.000000   \n",
       "\n",
       "           num_categories  num_directions  \n",
       "categorie                                  \n",
       "leftovers        9.285714        3.857143  \n",
       "healthy         15.513399        3.034879  \n",
       "wedding         15.348214        5.053571  \n",
       "tomatillo       13.073171        3.817073  \n",
       "westwood        18.000000        1.000000  "
      ]
     },
     "execution_count": 77,
     "metadata": {},
     "output_type": "execute_result"
    }
   ],
   "source": [
    "cats_properties = recipes_cats_exploded.groupby('categorie').mean(numeric_only=True)\n",
    "cats_properties.sample(5)"
   ]
  },
  {
   "cell_type": "code",
   "execution_count": 78,
   "id": "bc0aacd0-b9ae-4720-bfb2-e580378b4055",
   "metadata": {
    "tags": []
   },
   "outputs": [],
   "source": [
    "top50_highest_protein = cats_properties.sort_values(by='protein', ascending=False).head(50)"
   ]
  },
  {
   "cell_type": "code",
   "execution_count": 79,
   "id": "68cc1a93-34b1-43ac-a93d-ed75f9d8664f",
   "metadata": {
    "tags": []
   },
   "outputs": [],
   "source": [
    "top5_high_protein_low_fat = top50_highest_protein.sort_values(by='fat', ascending=True).head(5)"
   ]
  },
  {
   "cell_type": "code",
   "execution_count": 80,
   "id": "0603802c-29bf-4601-a3fe-bd693d185d36",
   "metadata": {
    "tags": []
   },
   "outputs": [],
   "source": [
    "top5_high_protein_low_fat = top5_high_protein_low_fat[['fat', 'protein']]"
   ]
  },
  {
   "cell_type": "code",
   "execution_count": 81,
   "id": "2d906604-ce97-4694-806b-b1405eef1e4a",
   "metadata": {
    "tags": []
   },
   "outputs": [
    {
     "data": {
      "text/html": [
       "<div>\n",
       "<style scoped>\n",
       "    .dataframe tbody tr th:only-of-type {\n",
       "        vertical-align: middle;\n",
       "    }\n",
       "\n",
       "    .dataframe tbody tr th {\n",
       "        vertical-align: top;\n",
       "    }\n",
       "\n",
       "    .dataframe thead th {\n",
       "        text-align: right;\n",
       "    }\n",
       "</style>\n",
       "<table border=\"1\" class=\"dataframe\">\n",
       "  <thead>\n",
       "    <tr style=\"text-align: right;\">\n",
       "      <th></th>\n",
       "      <th>fat</th>\n",
       "      <th>protein</th>\n",
       "    </tr>\n",
       "    <tr>\n",
       "      <th>categorie</th>\n",
       "      <th></th>\n",
       "      <th></th>\n",
       "    </tr>\n",
       "  </thead>\n",
       "  <tbody>\n",
       "    <tr>\n",
       "      <th>windsor</th>\n",
       "      <td>73.000000</td>\n",
       "      <td>389.000000</td>\n",
       "    </tr>\n",
       "    <tr>\n",
       "      <th>food processor</th>\n",
       "      <td>74.794450</td>\n",
       "      <td>184.223022</td>\n",
       "    </tr>\n",
       "    <tr>\n",
       "      <th>grill/barbecue</th>\n",
       "      <td>80.523007</td>\n",
       "      <td>184.402899</td>\n",
       "    </tr>\n",
       "    <tr>\n",
       "      <th>backyard bbq</th>\n",
       "      <td>80.541791</td>\n",
       "      <td>200.808529</td>\n",
       "    </tr>\n",
       "    <tr>\n",
       "      <th>tree nut free</th>\n",
       "      <td>89.665730</td>\n",
       "      <td>84.292561</td>\n",
       "    </tr>\n",
       "  </tbody>\n",
       "</table>\n",
       "</div>"
      ],
      "text/plain": [
       "                      fat     protein\n",
       "categorie                            \n",
       "windsor         73.000000  389.000000\n",
       "food processor  74.794450  184.223022\n",
       "grill/barbecue  80.523007  184.402899\n",
       "backyard bbq    80.541791  200.808529\n",
       "tree nut free   89.665730   84.292561"
      ]
     },
     "execution_count": 81,
     "metadata": {},
     "output_type": "execute_result"
    }
   ],
   "source": [
    "top5_high_protein_low_fat"
   ]
  },
  {
   "cell_type": "markdown",
   "id": "d733da78-1669-499c-8b9b-d06e3d905d4d",
   "metadata": {},
   "source": [
    "Recipes contemplates with `windsor` categorie correspond to the ones with most protein and still low fat. These recipes might be interesting for bodybuilders or any one trying to be fitness and lose weight while winning body mass."
   ]
  },
  {
   "cell_type": "code",
   "execution_count": 82,
   "id": "39c89eae-fda5-4ced-b56c-2b8220c178c7",
   "metadata": {
    "tags": []
   },
   "outputs": [
    {
     "data": {
      "image/png": "[encoded data removed]",
      "text/plain": [
       "<Figure size 640x480 with 1 Axes>"
      ]
     },
     "metadata": {},
     "output_type": "display_data"
    }
   ],
   "source": [
    "top5_high_protein_low_fat.plot.bar(y=['fat', 'protein'], edgecolor='black')\n",
    "plt.show()"
   ]
  },
  {
   "cell_type": "markdown",
   "id": "d69e58a4-aa91-4d34-be0d-34086d127b21",
   "metadata": {},
   "source": [
    "### 10. Final comments"
   ]
  },
  {
   "cell_type": "markdown",
   "id": "ebc89449-f76b-4460-be70-a1bcedfea32f",
   "metadata": {},
   "source": [
    "The description and title features were not used in this analysis as the other string/list data typed columns were more interesting to analyse and also combine further insights with the numerical ones. With more time, perhaps applying NLP into the `ingredients` feature could be useful to extract main ingredients in general and further analyse them in comparison to the categories."
   ]
  },
  {
   "cell_type": "code",
   "execution_count": null,
   "id": "1a42bc38-f4ab-4d96-9a7b-168ef8c78598",
   "metadata": {},
   "outputs": [],
   "source": []
  }
 ],
 "metadata": {
  "kernelspec": {
   "display_name": "venv",
   "language": "python",
   "name": "venv"
  },
  "language_info": {
   "codemirror_mode": {
    "name": "ipython",
    "version": 3
   },
   "file_extension": ".py",
   "mimetype": "text/x-python",
   "name": "python",
   "nbconvert_exporter": "python",
   "pygments_lexer": "ipython3",
   "version": "3.10.4"
  }
 },
 "nbformat": 4,
 "nbformat_minor": 5
}
